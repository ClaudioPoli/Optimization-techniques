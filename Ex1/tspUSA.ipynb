{
 "cells": [
  {
   "cell_type": "markdown",
   "metadata": {},
   "source": [
    "# Problema del commesso viaggiatore\n",
    "\n",
    "## Obiettivo e Prerequisiti\n",
    "\n",
    "L'obiettivo del problema è quello di trovare il percorso più breve possibile che permetta al commesso di visitare ogni città una volta sola, ritornando alla città di partenza.\n",
    "\n",
    "In questa esercitazione si farà uso della libreria dedicata all'ottimizzazione **Gurobi** (per cui è necessaria una licenza, free per uso accademico)"
   ]
  },
  {
   "cell_type": "markdown",
   "metadata": {},
   "source": [
    "## Descrizione del problema\n",
    "Definito un elenco di città e le distanze tra ogni coppia di esse, si vuole individuare il percorso più breve possibile che passi per ciascuna città una volta sola e ritorni a quella di partenza.\n",
    "\n",
    "Nella presente esercitazione si assumerà che la distanza per andare dalla città $i$ alla città $j$ sia la stessa di quella per andare dalla città $j$ alla città $i$, questo tipo di problema del commesso viaggiatore è noto anche come problema simmetrico del commesso viaggiatore.\n",
    "\n",
    "## Approccio risolutivo\n",
    "\n",
    "La programmazione matematica rappresenta un approccio dichiarativo in cui viene definito un modello di ottimizzazione che cattura gli aspetti chiave di un problema decisionale complesso.\n",
    "\n",
    "Un modello di ottimizzazione ha cinque componenti:\n",
    "\n",
    "* Insiemi e indici\n",
    "* Parametri\n",
    "* Variabili decisionali\n",
    "* Funzione/i obiettivo\n",
    "* Vincoli\n",
    "\n",
    "## Formulazione del modello\n",
    "\n",
    "### Insiemi e indici\n",
    "$i, j \\in Capitali $: indici e insieme delle capitali degli USA.\n",
    "\n",
    "$\\text{Coppie}= \\{(i,j) \\in Capitali \\times Capitali \\}$: Insieme di coppie di capitali.\n",
    "\n",
    "$S \\subset Capitali$: Sottoinsieme dell'insieme di capitali degli USA.\n",
    "\n",
    "$G = (Capitali, Coppie)$: Un grafo in cui l'insieme $Capitali$ definisce un insieme di nodi e $Coppie$ definisce un insieme di archi. \n",
    "\n",
    "### Parametri \n",
    "\n",
    "$d_{i, j} \\in \\mathbb{R}^+$: Distanza tra capitale $i$ e capitale $j$, per tutte le $(i, j) \\in Coppie$. \n",
    "\n",
    "Occore notare che la distanza dalla capitale $i$ alla capitale $j$ è uguale alla distanza dalla capitale $j$ alla capitale $i$, cioè $d_{i, j} = d_{j, i} $. Per questo motivo, questa tipologia di problema è anche chiamato problema del commesso viaggiatore simmetrico.\n",
    "\n",
    "### Variabili decisionali\n",
    "$x_{i, j} \\in \\{0, 1\\}$: Variabile è uguale ad 1, se si decide di connettere la città $i$ alla città $j$. Altrimenti la variabile decisionale è posta uguale a 0.\n",
    "\n",
    "### Funzione obiettivo\n",
    "- **Percorso più breve**. Minimizzazione della distanza totale di un percorso. Un percorso è rappresentato da una sequenza di capitali in cui il commesso visita ogni città solo una volta e torna alla capitale di partenza.\n",
    "\n",
    "\\begin{equation}\n",
    "\\text{Min} \\quad Z = \\sum_{(i,j) \\in \\text{Coppie}}d_{i,j} \\cdot x_{i,j}\n",
    "\\end{equation}\n",
    "\n",
    "### Vincoli \n",
    "- **Vincoli di simmetria**. Per ogni arco $(i,j)$, ci si assicura che le capitali $i$ e $j$ siano collegate, se la prima viene visitata immediatamente prima o dopo aver visitato la seconda.\n",
    "\n",
    "\\begin{equation}\n",
    "x_{i, j} = x_{j, i} \\quad \\forall (i, j) \\in Coppie\n",
    "\\end{equation}\n",
    "\n",
    "- **Entrare e uscire da una capitale**. Per ogni capitale $i$, ci si assicura che questa sia collegata ad altre due città.\n",
    "\n",
    "\\begin{equation}\n",
    "\\sum_{(i,j) \\in \\text{Coppie}}x_{i,j} = 2 \\quad \\forall  i \\in Capitali\n",
    "\\end{equation}\n",
    "\n",
    "- **Eliminazione di loop**. Questo vincolo assicura che per qualsiasi sottoinsieme di città $S$ dell'insieme di $Capitali$, non vi sia alcun ciclo. In altre parole, non esiste un percorso che visiti tutte le città del sottoinsieme e torni alla città di origine.\n",
    "\n",
    "\\begin{equation}\n",
    "\\sum_{(i \\neq j) \\in S}x_{i,j} \\leq |S|-1 \\quad \\forall  S \\subset  Capitali\n",
    "\\end{equation}"
   ]
  },
  {
   "cell_type": "markdown",
   "metadata": {},
   "source": [
    "## Implementazione\n",
    "\n",
    "In questa esercitazione sono state utilizzate le seguenti librerie:\n",
    "* **folium**: per visualizzare la mappa finale.\n",
    "* **gurobipy**: mette a disposizione gli algoritmi di Gurobi per risolvere i modelli.\n"
   ]
  },
  {
   "cell_type": "markdown",
   "metadata": {},
   "source": [
    "### Lettura dei dati\n",
    "I nomi delle capitali e le loro coordinate sono lette da un file json creato appositamente."
   ]
  },
  {
   "cell_type": "code",
   "execution_count": 1,
   "metadata": {},
   "outputs": [],
   "source": [
    "import json\n",
    "\n",
    "# Lettura del file json contenete le capitali e le loro coordinate\n",
    "capitals_json = json.load(open('capitalsUSA.json'))\n",
    "capitals = []\n",
    "coordinates = {}\n",
    "for state in capitals_json:\n",
    "    if state not in ['AK', 'HI']: #eliminazione di Alaska e Hawaii per evitare di passare nel mare\n",
    "      capital = capitals_json[state]['capital']\n",
    "      capitals.append(capital)\n",
    "      coordinates[capital] = (float(capitals_json[state]['lat']), float(capitals_json[state]['long']))"
   ]
  },
  {
   "cell_type": "markdown",
   "metadata": {},
   "source": [
    "### Calcolo delle distanze\n",
    "La seguente funzione calcola la distanza per ogni coppia di capitali. Dal momento che si sta risolvendo il problema del commesso viaggiatore simmetrico, si utilizza la *combination* delle città."
   ]
  },
  {
   "cell_type": "code",
   "execution_count": 2,
   "metadata": {},
   "outputs": [],
   "source": [
    "import math\n",
    "from itertools import combinations\n",
    "\n",
    "# Calcolo delle distanze a coppie\n",
    "\n",
    "def distance(city1, city2):\n",
    "    c1 = coordinates[city1]\n",
    "    c2 = coordinates[city2]\n",
    "    diff = (c1[0]-c2[0], c1[1]-c2[1])\n",
    "    return math.sqrt(diff[0]*diff[0]+diff[1]*diff[1])\n",
    "\n",
    "dist = {(c1, c2): distance(c1, c2) for c1, c2 in combinations(capitals, 2)}"
   ]
  },
  {
   "cell_type": "markdown",
   "metadata": {},
   "source": [
    "### Modellazione\n",
    "Si definisce il modello per il problema, definendo variabili decisionali, vincoli e funzione obiettivo. Poiché si considera il problema del commesso viaggiatore simmetrico, è possibile renderlo più efficiente definendo x[j,i] = x[i,j]."
   ]
  },
  {
   "cell_type": "code",
   "execution_count": 3,
   "metadata": {},
   "outputs": [
    {
     "name": "stdout",
     "output_type": "stream",
     "text": [
      "Set parameter Username\n",
      "Academic license - for non-commercial use only - expires 2022-02-24\n"
     ]
    }
   ],
   "source": [
    "import gurobipy as gp\n",
    "from gurobipy import GRB\n",
    "\n",
    "m = gp.Model()\n",
    "\n",
    "# Variabili: la città 'i' è adiacente alla città 'j'?\n",
    "vars = m.addVars(dist.keys(), obj=dist, vtype=GRB.BINARY, name='x')\n",
    "\n",
    "# Direzione simmetrica: copia dell'oggetto\n",
    "for i, j in vars.keys():\n",
    "    vars[j, i] = vars[i, j]  # archi in direzione opposta\n",
    "\n",
    "# Vincoli: due archi incidenti a ciascuna città\n",
    "cons = m.addConstrs(vars.sum(c, '*') == 2 for c in capitals)"
   ]
  },
  {
   "cell_type": "markdown",
   "metadata": {},
   "source": [
    "### Callback\n",
    "I vincoli per i sotto percorsi impediscono i cicli in un percorso. Poiché ne esiste un numero esponenziale non si vuole aggiungerli tutti al modello, quindi verrà utilizzata una funzione di callback per trovare vincoli violati e aggiungerli al modello come \"vincoli pigri\"."
   ]
  },
  {
   "cell_type": "code",
   "execution_count": 4,
   "metadata": {},
   "outputs": [],
   "source": [
    "# Callback - utilizzo dei vincoli pigri per eliminare i sotto percorsi\n",
    "\n",
    "def subtourelim(model, where):\n",
    "    if where == GRB.Callback.MIPSOL:\n",
    "        # creazione di una lista di archi selezionati nella soluzione\n",
    "        vals = model.cbGetSolution(model._vars)\n",
    "        selected = gp.tuplelist((i, j) for i, j in model._vars.keys()\n",
    "                             if vals[i, j] > 0.5)\n",
    "        # Identificazione del ciclo più corto nella lista degli archi\n",
    "        tour = subtour(selected)\n",
    "        if len(tour) < len(capitals):\n",
    "            # aggiunta del vincolo di eliminazione dei sotto percorsi per ogni coppia di città nel sotto percorso\n",
    "            model.cbLazy(gp.quicksum(model._vars[i, j] for i, j in combinations(tour, 2))\n",
    "                         <= len(tour)-1)\n",
    "\n",
    "# Data una lista di tuple di archi, identificare il percorso più breve\n",
    "\n",
    "def subtour(edges):\n",
    "    unvisited = capitals[:]\n",
    "    cycle = capitals[:] # Dummy\n",
    "    while unvisited:  # true se la lista non è vuota\n",
    "        thiscycle = []\n",
    "        neighbors = unvisited\n",
    "        while neighbors:\n",
    "            current = neighbors[0]\n",
    "            thiscycle.append(current)\n",
    "            unvisited.remove(current)\n",
    "            neighbors = [j for i, j in edges.select(current, '*')\n",
    "                         if j in unvisited]\n",
    "        if len(thiscycle) <= len(cycle):\n",
    "            cycle = thiscycle # Nuovo percorso breve\n",
    "    return cycle"
   ]
  },
  {
   "cell_type": "markdown",
   "metadata": {},
   "source": [
    "## Risoluzione del modello"
   ]
  },
  {
   "cell_type": "code",
   "execution_count": 5,
   "metadata": {},
   "outputs": [
    {
     "name": "stdout",
     "output_type": "stream",
     "text": [
      "Set parameter LazyConstraints to value 1\n",
      "Gurobi Optimizer version 9.5.0 build v9.5.0rc5 (win64)\n",
      "Thread count: 4 physical cores, 8 logical processors, using up to 8 threads\n",
      "Optimize a model with 48 rows, 1128 columns and 2256 nonzeros\n",
      "Model fingerprint: 0x63641a38\n",
      "Variable types: 0 continuous, 1128 integer (1128 binary)\n",
      "Coefficient statistics:\n",
      "  Matrix range     [1e+00, 1e+00]\n",
      "  Objective range  [6e-01, 5e+01]\n",
      "  Bounds range     [1e+00, 1e+00]\n",
      "  RHS range        [2e+00, 2e+00]\n",
      "Presolve time: 0.01s\n",
      "Presolved: 48 rows, 1128 columns, 2256 nonzeros\n",
      "Variable types: 0 continuous, 1128 integer (1128 binary)\n",
      "\n",
      "Root relaxation: objective 1.611858e+02, 72 iterations, 0.01 seconds (0.00 work units)\n",
      "\n",
      "    Nodes    |    Current Node    |     Objective Bounds      |     Work\n",
      " Expl Unexpl |  Obj  Depth IntInf | Incumbent    BestBd   Gap | It/Node Time\n",
      "\n",
      "     0     0  161.18576    0   12          -  161.18576      -     -    0s\n",
      "     0     0  163.11017    0   18          -  163.11017      -     -    0s\n",
      "     0     0  164.15548    0   16          -  164.15548      -     -    0s\n",
      "     0     0  164.98159    0    8          -  164.98159      -     -    0s\n",
      "     0     0  165.13384    0   27          -  165.13384      -     -    0s\n",
      "     0     2  165.30532    0   29          -  165.30532      -     -    0s\n",
      "*  210   119              11     180.4950425  167.62260  7.13%   6.1    0s\n",
      "*  237   109              12     179.2507411  168.66641  5.90%   6.5    0s\n",
      "*  243   109              12     177.7775018  169.18323  4.83%   6.8    0s\n",
      "*  244   109              12     177.6512947  169.18323  4.77%   6.8    0s\n",
      "H  247   109                     176.9222764  169.18323  4.37%   6.8    0s\n",
      "*  266   109               7     175.4856174  169.45720  3.44%   6.8    0s\n",
      "H  270   109                     175.4490370  169.98933  3.11%   6.9    0s\n",
      "\n",
      "Cutting planes:\n",
      "  Inf proof: 1\n",
      "  Zero half: 10\n",
      "  Lazy constraints: 36\n",
      "\n",
      "Explored 335 nodes (2675 simplex iterations) in 0.43 seconds (0.06 work units)\n",
      "Thread count was 8 (of 8 available processors)\n",
      "\n",
      "Solution count 7: 175.449 175.486 176.922 ... 180.495\n",
      "\n",
      "Optimal solution found (tolerance 1.00e-04)\n",
      "Best objective 1.754490370198e+02, best bound 1.754490370198e+02, gap 0.0000%\n",
      "\n",
      "User-callback calls 885, time in user-callback 0.15 sec\n"
     ]
    }
   ],
   "source": [
    "m._vars = vars\n",
    "m.Params.lazyConstraints = 1\n",
    "m.optimize(subtourelim)"
   ]
  },
  {
   "cell_type": "markdown",
   "metadata": {},
   "source": [
    "## Analisi\n",
    "\n",
    "Si identifica la soluzione ottima del problema del commesso viaggiatore e si verifica che il percorso ottimale passi per tutte le città e ritorni alla città di origine."
   ]
  },
  {
   "cell_type": "code",
   "execution_count": 6,
   "metadata": {},
   "outputs": [],
   "source": [
    "vals = m.getAttr('x', vars)\n",
    "selected = gp.tuplelist((i, j) for i, j in vals.keys() if vals[i, j] > 0.5)\n",
    "\n",
    "tour = subtour(selected)\n",
    "assert len(tour) == len(capitals)"
   ]
  },
  {
   "cell_type": "markdown",
   "metadata": {},
   "source": [
    "Il percorso ottimale è visualizzato sulla mappa."
   ]
  },
  {
   "cell_type": "code",
   "execution_count": 7,
   "metadata": {},
   "outputs": [
    {
     "data": {
      "text/html": [
       "<div style=\"width:100%;\"><div style=\"position:relative;width:100%;height:0;padding-bottom:60%;\"><span style=\"color:#565656\">Make this Notebook Trusted to load map: File -> Trust Notebook</span><iframe src=\"about:blank\" style=\"position:absolute;width:100%;height:100%;left:0;top:0;border:none !important;\" data-html=%3C%21DOCTYPE%20html%3E%0A%3Chead%3E%20%20%20%20%0A%20%20%20%20%3Cmeta%20http-equiv%3D%22content-type%22%20content%3D%22text/html%3B%20charset%3DUTF-8%22%20/%3E%0A%20%20%20%20%0A%20%20%20%20%20%20%20%20%3Cscript%3E%0A%20%20%20%20%20%20%20%20%20%20%20%20L_NO_TOUCH%20%3D%20false%3B%0A%20%20%20%20%20%20%20%20%20%20%20%20L_DISABLE_3D%20%3D%20false%3B%0A%20%20%20%20%20%20%20%20%3C/script%3E%0A%20%20%20%20%0A%20%20%20%20%3Cstyle%3Ehtml%2C%20body%20%7Bwidth%3A%20100%25%3Bheight%3A%20100%25%3Bmargin%3A%200%3Bpadding%3A%200%3B%7D%3C/style%3E%0A%20%20%20%20%3Cstyle%3E%23map%20%7Bposition%3Aabsolute%3Btop%3A0%3Bbottom%3A0%3Bright%3A0%3Bleft%3A0%3B%7D%3C/style%3E%0A%20%20%20%20%3Cscript%20src%3D%22https%3A//cdn.jsdelivr.net/npm/leaflet%401.6.0/dist/leaflet.js%22%3E%3C/script%3E%0A%20%20%20%20%3Cscript%20src%3D%22https%3A//code.jquery.com/jquery-1.12.4.min.js%22%3E%3C/script%3E%0A%20%20%20%20%3Cscript%20src%3D%22https%3A//maxcdn.bootstrapcdn.com/bootstrap/3.2.0/js/bootstrap.min.js%22%3E%3C/script%3E%0A%20%20%20%20%3Cscript%20src%3D%22https%3A//cdnjs.cloudflare.com/ajax/libs/Leaflet.awesome-markers/2.0.2/leaflet.awesome-markers.js%22%3E%3C/script%3E%0A%20%20%20%20%3Clink%20rel%3D%22stylesheet%22%20href%3D%22https%3A//cdn.jsdelivr.net/npm/leaflet%401.6.0/dist/leaflet.css%22/%3E%0A%20%20%20%20%3Clink%20rel%3D%22stylesheet%22%20href%3D%22https%3A//maxcdn.bootstrapcdn.com/bootstrap/3.2.0/css/bootstrap.min.css%22/%3E%0A%20%20%20%20%3Clink%20rel%3D%22stylesheet%22%20href%3D%22https%3A//maxcdn.bootstrapcdn.com/bootstrap/3.2.0/css/bootstrap-theme.min.css%22/%3E%0A%20%20%20%20%3Clink%20rel%3D%22stylesheet%22%20href%3D%22https%3A//maxcdn.bootstrapcdn.com/font-awesome/4.6.3/css/font-awesome.min.css%22/%3E%0A%20%20%20%20%3Clink%20rel%3D%22stylesheet%22%20href%3D%22https%3A//cdnjs.cloudflare.com/ajax/libs/Leaflet.awesome-markers/2.0.2/leaflet.awesome-markers.css%22/%3E%0A%20%20%20%20%3Clink%20rel%3D%22stylesheet%22%20href%3D%22https%3A//cdn.jsdelivr.net/gh/python-visualization/folium/folium/templates/leaflet.awesome.rotate.min.css%22/%3E%0A%20%20%20%20%0A%20%20%20%20%20%20%20%20%20%20%20%20%3Cmeta%20name%3D%22viewport%22%20content%3D%22width%3Ddevice-width%2C%0A%20%20%20%20%20%20%20%20%20%20%20%20%20%20%20%20initial-scale%3D1.0%2C%20maximum-scale%3D1.0%2C%20user-scalable%3Dno%22%20/%3E%0A%20%20%20%20%20%20%20%20%20%20%20%20%3Cstyle%3E%0A%20%20%20%20%20%20%20%20%20%20%20%20%20%20%20%20%23map_2e6961c4ffae420f97b1661a7be0eb48%20%7B%0A%20%20%20%20%20%20%20%20%20%20%20%20%20%20%20%20%20%20%20%20position%3A%20relative%3B%0A%20%20%20%20%20%20%20%20%20%20%20%20%20%20%20%20%20%20%20%20width%3A%20100.0%25%3B%0A%20%20%20%20%20%20%20%20%20%20%20%20%20%20%20%20%20%20%20%20height%3A%20100.0%25%3B%0A%20%20%20%20%20%20%20%20%20%20%20%20%20%20%20%20%20%20%20%20left%3A%200.0%25%3B%0A%20%20%20%20%20%20%20%20%20%20%20%20%20%20%20%20%20%20%20%20top%3A%200.0%25%3B%0A%20%20%20%20%20%20%20%20%20%20%20%20%20%20%20%20%7D%0A%20%20%20%20%20%20%20%20%20%20%20%20%3C/style%3E%0A%20%20%20%20%20%20%20%20%0A%3C/head%3E%0A%3Cbody%3E%20%20%20%20%0A%20%20%20%20%0A%20%20%20%20%20%20%20%20%20%20%20%20%3Cdiv%20class%3D%22folium-map%22%20id%3D%22map_2e6961c4ffae420f97b1661a7be0eb48%22%20%3E%3C/div%3E%0A%20%20%20%20%20%20%20%20%0A%3C/body%3E%0A%3Cscript%3E%20%20%20%20%0A%20%20%20%20%0A%20%20%20%20%20%20%20%20%20%20%20%20var%20map_2e6961c4ffae420f97b1661a7be0eb48%20%3D%20L.map%28%0A%20%20%20%20%20%20%20%20%20%20%20%20%20%20%20%20%22map_2e6961c4ffae420f97b1661a7be0eb48%22%2C%0A%20%20%20%20%20%20%20%20%20%20%20%20%20%20%20%20%7B%0A%20%20%20%20%20%20%20%20%20%20%20%20%20%20%20%20%20%20%20%20center%3A%20%5B40.0%2C%20-95.0%5D%2C%0A%20%20%20%20%20%20%20%20%20%20%20%20%20%20%20%20%20%20%20%20crs%3A%20L.CRS.EPSG3857%2C%0A%20%20%20%20%20%20%20%20%20%20%20%20%20%20%20%20%20%20%20%20zoom%3A%204%2C%0A%20%20%20%20%20%20%20%20%20%20%20%20%20%20%20%20%20%20%20%20zoomControl%3A%20true%2C%0A%20%20%20%20%20%20%20%20%20%20%20%20%20%20%20%20%20%20%20%20preferCanvas%3A%20false%2C%0A%20%20%20%20%20%20%20%20%20%20%20%20%20%20%20%20%7D%0A%20%20%20%20%20%20%20%20%20%20%20%20%29%3B%0A%0A%20%20%20%20%20%20%20%20%20%20%20%20%0A%0A%20%20%20%20%20%20%20%20%0A%20%20%20%20%0A%20%20%20%20%20%20%20%20%20%20%20%20var%20tile_layer_66bfa073033442b08c76aad7b42ce662%20%3D%20L.tileLayer%28%0A%20%20%20%20%20%20%20%20%20%20%20%20%20%20%20%20%22https%3A//%7Bs%7D.tile.openstreetmap.org/%7Bz%7D/%7Bx%7D/%7By%7D.png%22%2C%0A%20%20%20%20%20%20%20%20%20%20%20%20%20%20%20%20%7B%22attribution%22%3A%20%22Data%20by%20%5Cu0026copy%3B%20%5Cu003ca%20href%3D%5C%22http%3A//openstreetmap.org%5C%22%5Cu003eOpenStreetMap%5Cu003c/a%5Cu003e%2C%20under%20%5Cu003ca%20href%3D%5C%22http%3A//www.openstreetmap.org/copyright%5C%22%5Cu003eODbL%5Cu003c/a%5Cu003e.%22%2C%20%22detectRetina%22%3A%20false%2C%20%22maxNativeZoom%22%3A%2018%2C%20%22maxZoom%22%3A%2018%2C%20%22minZoom%22%3A%200%2C%20%22noWrap%22%3A%20false%2C%20%22opacity%22%3A%201%2C%20%22subdomains%22%3A%20%22abc%22%2C%20%22tms%22%3A%20false%7D%0A%20%20%20%20%20%20%20%20%20%20%20%20%29.addTo%28map_2e6961c4ffae420f97b1661a7be0eb48%29%3B%0A%20%20%20%20%20%20%20%20%0A%20%20%20%20%0A%20%20%20%20%20%20%20%20%20%20%20%20var%20poly_line_a22fd89931714a39bc25782a751e4aa7%20%3D%20L.polyline%28%0A%20%20%20%20%20%20%20%20%20%20%20%20%20%20%20%20%5B%5B32.361538%2C%20-86.279118%5D%2C%20%5B30.4518%2C%20-84.27277%5D%2C%20%5B33.76%2C%20-84.39%5D%2C%20%5B34.0%2C%20-81.035%5D%2C%20%5B35.771%2C%20-78.638%5D%2C%20%5B37.54%2C%20-77.46%5D%2C%20%5B38.972945%2C%20-76.501157%5D%2C%20%5B39.161921%2C%20-75.526755%5D%2C%20%5B40.221741%2C%20-74.756138%5D%2C%20%5B41.767%2C%20-72.677%5D%2C%20%5B41.82355%2C%20-71.422132%5D%2C%20%5B42.2352%2C%20-71.0275%5D%2C%20%5B44.323535%2C%20-69.765261%5D%2C%20%5B43.220093%2C%20-71.549127%5D%2C%20%5B44.26639%2C%20-72.57194%5D%2C%20%5B42.659829%2C%20-73.781339%5D%2C%20%5B40.269789%2C%20-76.875613%5D%2C%20%5B38.349497%2C%20-81.633294%5D%2C%20%5B39.962245%2C%20-83.000647%5D%2C%20%5B42.7335%2C%20-84.5467%5D%2C%20%5B43.074722%2C%20-89.384444%5D%2C%20%5B44.95%2C%20-93.094%5D%2C%20%5B41.590939%2C%20-93.620866%5D%2C%20%5B39.04%2C%20-95.69%5D%2C%20%5B40.809868%2C%20-96.675345%5D%2C%20%5B44.367966%2C%20-100.336378%5D%2C%20%5B46.813343%2C%20-100.779004%5D%2C%20%5B41.145548%2C%20-104.802042%5D%2C%20%5B39.7391667%2C%20-104.984167%5D%2C%20%5B40.7547%2C%20-111.892622%5D%2C%20%5B46.595805%2C%20-112.027031%5D%2C%20%5B43.613739%2C%20-116.237651%5D%2C%20%5B47.042418%2C%20-122.893077%5D%2C%20%5B44.931109%2C%20-123.029159%5D%2C%20%5B38.555605%2C%20-121.468926%5D%2C%20%5B39.160949%2C%20-119.753877%5D%2C%20%5B33.448457%2C%20-112.073844%5D%2C%20%5B35.667231%2C%20-105.964575%5D%2C%20%5B35.482309%2C%20-97.534994%5D%2C%20%5B30.266667%2C%20-97.75%5D%2C%20%5B30.45809%2C%20-91.140229%5D%2C%20%5B32.32%2C%20-90.207%5D%2C%20%5B34.736009%2C%20-92.331122%5D%2C%20%5B38.572954%2C%20-92.189283%5D%2C%20%5B39.78325%2C%20-89.650373%5D%2C%20%5B39.790942%2C%20-86.147685%5D%2C%20%5B38.197274%2C%20-84.86311%5D%2C%20%5B36.165%2C%20-86.784%5D%2C%20%5B32.361538%2C%20-86.279118%5D%5D%2C%0A%20%20%20%20%20%20%20%20%20%20%20%20%20%20%20%20%7B%22bubblingMouseEvents%22%3A%20true%2C%20%22color%22%3A%20%22%233388ff%22%2C%20%22dashArray%22%3A%20null%2C%20%22dashOffset%22%3A%20null%2C%20%22fill%22%3A%20false%2C%20%22fillColor%22%3A%20%22%233388ff%22%2C%20%22fillOpacity%22%3A%200.2%2C%20%22fillRule%22%3A%20%22evenodd%22%2C%20%22lineCap%22%3A%20%22round%22%2C%20%22lineJoin%22%3A%20%22round%22%2C%20%22noClip%22%3A%20false%2C%20%22opacity%22%3A%201.0%2C%20%22smoothFactor%22%3A%201.0%2C%20%22stroke%22%3A%20true%2C%20%22weight%22%3A%203%7D%0A%20%20%20%20%20%20%20%20%20%20%20%20%29.addTo%28map_2e6961c4ffae420f97b1661a7be0eb48%29%3B%0A%20%20%20%20%20%20%20%20%0A%3C/script%3E onload=\"this.contentDocument.open();this.contentDocument.write(    decodeURIComponent(this.getAttribute('data-html')));this.contentDocument.close();\" allowfullscreen webkitallowfullscreen mozallowfullscreen></iframe></div></div>"
      ],
      "text/plain": [
       "<folium.folium.Map at 0x25af7e674c8>"
      ]
     },
     "execution_count": 7,
     "metadata": {},
     "output_type": "execute_result"
    }
   ],
   "source": [
    "import folium\n",
    "\n",
    "map = folium.Map(location=[40,-95], zoom_start = 4)\n",
    "\n",
    "points = []\n",
    "for city in tour:\n",
    "  points.append(coordinates[city])\n",
    "points.append(points[0])\n",
    "\n",
    "folium.PolyLine(points).add_to(map)\n",
    "\n",
    "map"
   ]
  },
  {
   "cell_type": "markdown",
   "metadata": {},
   "source": [
    "## Conclusioni\n",
    "\n",
    "Il problema del commesso viaggiatore è uno dei problemi di ottimizzazione più diffusi, è molto facile da spiegare pur essendo complesso da risolvere.\n",
    "\n",
    "In questa esercitazione si è mostrato come formulare il problema del commesso viaggiatore simmetrico considerando le capitali degli Stati Uniti d'America e si è compreso come eliminare dinamicamente i sotto percorsi utilizzando i \"vincoli pigri\".\n",
    "\n",
    "Effettuando un paragone con l'esercitazione svolta considerando i capoluoghi italiani (numericamente inferiori rispetto alle capitali statunitensi) si può notare che il metodo del simplesso, sul quale si basa il modello, effettua 2675 iterazioni (contro le 45 del caso dei capoluoghi d'Italia) per ottenere la soluzione ottima. "
   ]
  }
 ],
 "metadata": {
  "kernelspec": {
   "display_name": "Python 3 (ipykernel)",
   "language": "python",
   "name": "python3"
  },
  "language_info": {
   "codemirror_mode": {
    "name": "ipython",
    "version": 3
   },
   "file_extension": ".py",
   "mimetype": "text/x-python",
   "name": "python",
   "nbconvert_exporter": "python",
   "pygments_lexer": "ipython3",
   "version": "3.7.11"
  }
 },
 "nbformat": 4,
 "nbformat_minor": 4
}
