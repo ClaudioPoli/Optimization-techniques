{
 "cells": [
  {
   "cell_type": "markdown",
   "metadata": {},
   "source": [
    "# MACHINE ASSIGNEMENT PROBLEM"
   ]
  },
  {
   "cell_type": "markdown",
   "metadata": {},
   "source": [
    "## Obiettivo e prerequisiti\n",
    "Nella presente esercitazione verrà considerato un assignement problem, specifica tipologia di problema di programmazione lineare, basato sui seguenti presupposti:\n",
    "- Minimizzazione del tempo associato al completamento di un certo numero di attività da parte di determinate risorse (uomo o macchinari)\n",
    "- Assegnazione di un solo lavoro a una risorsa\n",
    "- Assegnazione di un ogni risorsa ad un lavoro\n",
    "\n",
    "Formalmente si può esprimere il problema come:\n",
    "\n",
    "\\begin{equation}\n",
    "\\text{Min} \\quad Z = \\sum_{(i)} \\sum_{(j)} c_{i,j} x_{i,j}\n",
    "\\end{equation}\n",
    "\n",
    "\\begin{equation}\n",
    "\\text{subject to: }\\quad \\sum_{(i)} x_{i,j}=1\n",
    "\\end{equation}\n",
    "\n",
    "\\begin{equation}\n",
    "\\sum_{(j)} x_{i,j}=1\n",
    "\\end{equation}\n",
    "\n",
    "\\begin{equation}\n",
    "x_{i,j} \\in {0,1}\n",
    "\\end{equation}\n",
    "\n",
    "\n",
    "Uno degli approcci matematici più diffusi per risolvere questa tipologia di problemi di assegnamento bilanciati è l'**algoritmo ungherese**.\n",
    "\n",
    "Di seguito se ne illustra il funzionamento.\n",
    "\n",
    "Data una matrice quadrata di ordine n rappresentante la matrice dei costi del problema di assegnamento, l'algoritmo si svolge come segue:\n",
    "\n",
    "- Per ogni riga, individuare il minimo e sottrarlo a tutti gli elementi della riga;\n",
    "- Per ogni colonna, individuare il minimo e sottrarlo a tutti gli elementi della colonna;\n",
    "- Tutti gli zeri nella matrice devono essere coperti contrassegnando il minor numero possibile di righe e/o colonne;\n",
    "- Se il numero minimo di linee necessarie è pari a n è possibile determinare un assegnamento ottimo altrimenti procedere con lo step successivo;\n",
    "- Individuare l'elemento minimo (k) tra gli elementi non coperti da linee, sottrarlo agli elementi non coperti e sommarlo agli elementi che sono incrocio di due linee. Tornare allo step 3.\n",
    "\n",
    "Risolvere questo problema quando il numero di lavori o di risorse cresce richiede specifiche tecniche computazionali.\n",
    "A questo proposito in questa esercitazione si utilizzerà il pacchetto **Gurobi** di Python."
   ]
  },
  {
   "cell_type": "markdown",
   "metadata": {},
   "source": [
    "# DEFINIZIONE DEL PROBLEMA\n",
    "L'azienda di riferimento possiede quattro macchine e quattro lavori da completare. Ogni macchina deve essere assegnata per completare un lavoro. Il tempo necessario (espresso in ore) per ogni macchina per completare ogni lavoro è mostrato nella tabella riportata di seguito. L'azienda ha l'interesse di ridurre al minimo il tempo totale necessario per completare i quattro lavori."
   ]
  },
  {
   "cell_type": "code",
   "execution_count": 21,
   "metadata": {},
   "outputs": [
    {
     "data": {
      "text/html": [
       "<div>\n",
       "<style scoped>\n",
       "    .dataframe tbody tr th:only-of-type {\n",
       "        vertical-align: middle;\n",
       "    }\n",
       "\n",
       "    .dataframe tbody tr th {\n",
       "        vertical-align: top;\n",
       "    }\n",
       "\n",
       "    .dataframe thead th {\n",
       "        text-align: right;\n",
       "    }\n",
       "</style>\n",
       "<table border=\"1\" class=\"dataframe\">\n",
       "  <thead>\n",
       "    <tr style=\"text-align: right;\">\n",
       "      <th></th>\n",
       "      <th>Job0</th>\n",
       "      <th>Job1</th>\n",
       "      <th>Job2</th>\n",
       "      <th>Job3</th>\n",
       "    </tr>\n",
       "  </thead>\n",
       "  <tbody>\n",
       "    <tr>\n",
       "      <th>0</th>\n",
       "      <td>14</td>\n",
       "      <td>5</td>\n",
       "      <td>8</td>\n",
       "      <td>7</td>\n",
       "    </tr>\n",
       "    <tr>\n",
       "      <th>1</th>\n",
       "      <td>2</td>\n",
       "      <td>12</td>\n",
       "      <td>6</td>\n",
       "      <td>5</td>\n",
       "    </tr>\n",
       "    <tr>\n",
       "      <th>2</th>\n",
       "      <td>7</td>\n",
       "      <td>8</td>\n",
       "      <td>3</td>\n",
       "      <td>9</td>\n",
       "    </tr>\n",
       "    <tr>\n",
       "      <th>3</th>\n",
       "      <td>2</td>\n",
       "      <td>4</td>\n",
       "      <td>6</td>\n",
       "      <td>10</td>\n",
       "    </tr>\n",
       "  </tbody>\n",
       "</table>\n",
       "</div>"
      ],
      "text/plain": [
       "   Job0  Job1  Job2  Job3\n",
       "0    14     5     8     7\n",
       "1     2    12     6     5\n",
       "2     7     8     3     9\n",
       "3     2     4     6    10"
      ]
     },
     "execution_count": 21,
     "metadata": {},
     "output_type": "execute_result"
    }
   ],
   "source": [
    "import pandas as pd\n",
    "tabella = [[14, 5, 8, 7], [2, 12, 6, 5], [7, 8, 3, 9], [2, 4, 6, 10]]\n",
    "pd.DataFrame(tabella, columns=[\"Job0\",\"Job1\", \"Job2\",\"Job3\"])"
   ]
  },
  {
   "cell_type": "code",
   "execution_count": 22,
   "metadata": {},
   "outputs": [],
   "source": [
    "# Import della libreria gurobipy\n",
    "from gurobipy import *"
   ]
  },
  {
   "cell_type": "markdown",
   "metadata": {},
   "source": [
    "## Data management\n",
    "Le 4 macchine e i 4 lavori costituiscono gli insiemi identificati dal problema"
   ]
  },
  {
   "cell_type": "code",
   "execution_count": 23,
   "metadata": {},
   "outputs": [],
   "source": [
    "machines = [\"M0\",\"M1\",\"M2\", \"M3\"]\n",
    "jobs = [\"J0\", \"J1\", \"J2\", \"J3\"]\n",
    "\n",
    "I = range(len(machines))\n",
    "J = range(len(jobs))"
   ]
  },
  {
   "cell_type": "markdown",
   "metadata": {},
   "source": [
    "La matrice del problema indica il tempo necessario ad ogni macchina per eseguire ogni lavoro"
   ]
  },
  {
   "cell_type": "code",
   "execution_count": 24,
   "metadata": {},
   "outputs": [],
   "source": [
    "Comp_job_time = [\n",
    "    [14,5,8,7],\n",
    "    [2,12,6,5],\n",
    "    [7,8,3,9],\n",
    "    [2,4,6,10]\n",
    "]"
   ]
  },
  {
   "cell_type": "markdown",
   "metadata": {},
   "source": [
    "## Definizione del modello"
   ]
  },
  {
   "cell_type": "code",
   "execution_count": 25,
   "metadata": {},
   "outputs": [],
   "source": [
    "m = Model(\"Assignment Model\")"
   ]
  },
  {
   "cell_type": "markdown",
   "metadata": {},
   "source": [
    "## Definizione delle variabili\n",
    "\\begin{equation}\n",
    "x_{ij} = 1 \\text{ se la macchina i è assegnata al lavoro j}\n",
    "\\end{equation}\n",
    "\\begin{equation}\n",
    "x_{ij} = 0 \\text{ se la macchina i non è assegnata al lavoro j}\n",
    "\\end{equation}"
   ]
  },
  {
   "cell_type": "code",
   "execution_count": 26,
   "metadata": {},
   "outputs": [],
   "source": [
    "X = {}\n",
    "for i in I:\n",
    "    for j in J:\n",
    "       X[i,j] = m.addVar(vtype= GRB.BINARY)"
   ]
  },
  {
   "cell_type": "markdown",
   "metadata": {},
   "source": [
    "## Funzione obiettivo\n",
    "L'obiettivo è ridurre al minimo il tempo totale necessario per completare i quattro lavori."
   ]
  },
  {
   "cell_type": "code",
   "execution_count": 27,
   "metadata": {},
   "outputs": [],
   "source": [
    "m.setObjective(quicksum(Comp_job_time[i][j]*X[i,j] for i in I for j in J), GRB.MINIMIZE)"
   ]
  },
  {
   "cell_type": "markdown",
   "metadata": {},
   "source": [
    "## Vincoli\n",
    "Devono essere soddisfatti due vincoli:\n",
    "- Ogni macchina esegue un lavoro forzando la sommatoria di X(i,j) su tutti i lavori ad essere uguale ad 1.\n",
    "- Ogni lavoro deve essere completato da una macchina forzando la sommatoria di X(i,j) su tutte le macchine ad essere uguale ad 1.\n",
    "\n",
    "Formalmente:\n",
    "\n",
    "\\begin{equation}\n",
    "\\sum_{j\\in \\text{J}}x_{i,j} = 1 \\quad \\forall  i \\in I\n",
    "\\end{equation}\n",
    "\n",
    "\\begin{equation}\n",
    "\\sum_{i\\in \\text{I}}x_{i,j} = 1 \\quad \\forall  j \\in J\n",
    "\\end{equation}\n"
   ]
  },
  {
   "cell_type": "code",
   "execution_count": 28,
   "metadata": {},
   "outputs": [],
   "source": [
    "# Vincolo 1\n",
    "for i in I:\n",
    "     m.addConstr(quicksum(X[i,j] for j in J) == 1)\n",
    "# Vincolo 2\n",
    "for j in J:\n",
    "    m.addConstr(quicksum(X[i,j] for i in I) == 1)"
   ]
  },
  {
   "cell_type": "code",
   "execution_count": 29,
   "metadata": {},
   "outputs": [
    {
     "name": "stdout",
     "output_type": "stream",
     "text": [
      "Gurobi Optimizer version 9.5.0 build v9.5.0rc5 (win64)\n",
      "Thread count: 4 physical cores, 8 logical processors, using up to 8 threads\n",
      "Optimize a model with 8 rows, 16 columns and 32 nonzeros\n",
      "Model fingerprint: 0x0d9005ee\n",
      "Variable types: 0 continuous, 16 integer (16 binary)\n",
      "Coefficient statistics:\n",
      "  Matrix range     [1e+00, 1e+00]\n",
      "  Objective range  [2e+00, 1e+01]\n",
      "  Bounds range     [1e+00, 1e+00]\n",
      "  RHS range        [1e+00, 1e+00]\n",
      "Found heuristic solution: objective 28.0000000\n",
      "Presolve time: 0.00s\n",
      "Presolved: 8 rows, 16 columns, 32 nonzeros\n",
      "Variable types: 0 continuous, 16 integer (16 binary)\n",
      "\n",
      "Root relaxation: objective 1.500000e+01, 6 iterations, 0.00 seconds (0.00 work units)\n",
      "\n",
      "    Nodes    |    Current Node    |     Objective Bounds      |     Work\n",
      " Expl Unexpl |  Obj  Depth IntInf | Incumbent    BestBd   Gap | It/Node Time\n",
      "\n",
      "*    0     0               0      15.0000000   15.00000  0.00%     -    0s\n",
      "\n",
      "Explored 1 nodes (6 simplex iterations) in 0.02 seconds (0.00 work units)\n",
      "Thread count was 8 (of 8 available processors)\n",
      "\n",
      "Solution count 2: 15 28 \n",
      "\n",
      "Optimal solution found (tolerance 1.00e-04)\n",
      "Best objective 1.500000000000e+01, best bound 1.500000000000e+01, gap 0.0000%\n",
      "Optimized time:  15.0 hours\n"
     ]
    }
   ],
   "source": [
    "m.optimize()\n",
    "print(\"Optimized time: \",m.objVal, \"hours\")"
   ]
  },
  {
   "cell_type": "markdown",
   "metadata": {},
   "source": [
    "Sulla base delle ipotesi iniziali e dei risultati sottostanti, l'assegnazione ottimale di 15 ore può essere ottenuta assegnando:\n",
    "- Macchina 0 al lavoro 1\n",
    "- Macchina 1 al lavoro 3\n",
    "- Macchina 2 al lavoro 2\n",
    "- Macchina 3 al lavoro 0"
   ]
  },
  {
   "cell_type": "code",
   "execution_count": 30,
   "metadata": {},
   "outputs": [
    {
     "name": "stdout",
     "output_type": "stream",
     "text": [
      "------------------------------\n",
      "Machine: 0\n",
      "------------------------------\n",
      "   Job 0 -0.0\n",
      "   Job 1 1.0\n",
      "   Job 2 -0.0\n",
      "   Job 3 -0.0\n",
      "------------------------------\n",
      "Machine: 1\n",
      "------------------------------\n",
      "   Job 0 0.0\n",
      "   Job 1 -0.0\n",
      "   Job 2 -0.0\n",
      "   Job 3 1.0\n",
      "------------------------------\n",
      "Machine: 2\n",
      "------------------------------\n",
      "   Job 0 -0.0\n",
      "   Job 1 -0.0\n",
      "   Job 2 1.0\n",
      "   Job 3 -0.0\n",
      "------------------------------\n",
      "Machine: 3\n",
      "------------------------------\n",
      "   Job 0 1.0\n",
      "   Job 1 0.0\n",
      "   Job 2 -0.0\n",
      "   Job 3 -0.0\n"
     ]
    }
   ],
   "source": [
    "for i in I:\n",
    "    print(\"-\"*30)\n",
    "    print(\"Machine:\",i)\n",
    "    print(\"-\"*30)   \n",
    "    for j in J:\n",
    "        print(\"   Job\",j,X[i,j].x)"
   ]
  },
  {
   "cell_type": "markdown",
   "metadata": {},
   "source": [
    "## Analisi dei risultati\n",
    "Confrontando l'assegnazione delle macchine ai lavori riportata sopra con \"Optimized time\" calcolato dal modello di ottimizzazione è possibile dedurre che i risultati siano veritieri e soddisfacenti."
   ]
  }
 ],
 "metadata": {
  "interpreter": {
   "hash": "b20df4bf313f1823371d65a985ecf9585dcd6ef62f29c72103cfaf00750eddee"
  },
  "kernelspec": {
   "display_name": "Python 3.7.11 64-bit ('base': conda)",
   "language": "python",
   "name": "python3"
  },
  "language_info": {
   "codemirror_mode": {
    "name": "ipython",
    "version": 3
   },
   "file_extension": ".py",
   "mimetype": "text/x-python",
   "name": "python",
   "nbconvert_exporter": "python",
   "pygments_lexer": "ipython3",
   "version": "3.7.11"
  },
  "orig_nbformat": 4
 },
 "nbformat": 4,
 "nbformat_minor": 2
}
