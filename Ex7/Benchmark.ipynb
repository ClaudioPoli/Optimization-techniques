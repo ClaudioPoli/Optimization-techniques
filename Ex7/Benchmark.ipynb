{
 "cells": [
  {
   "cell_type": "markdown",
   "metadata": {},
   "source": [
    "# BENCHMARK FUNCTIONS\n",
    "In questa esercitazione verranno messe a confronto tre tra le librerie di ottimizzazione open source più popolari: **SciPy, PuLP e Pyomo**. Verrà preso in considerazion un singolo caso d'uso che permetterà di evidenziarne le differenze di implementazione e prestazioni.\n",
    "Si consideri un **problema di trasporto** in cui viene definito un insieme di clienti I = [1,2,3,4,5] e un insieme di fabbriche J = [1,2,3]. Ad ogni cliente corrisponde una domanda di prodotto fissa d_i e ogni fabbrica ha una capacità di produzione fissa M_j. E' necessario considerare i costi di trasporto fissi per consegnare la merce della fabbrica j al cliente i.\n",
    "\n",
    "Formalmente il problema può essere descritto come segue:\n",
    "\n",
    "\\begin{equation}\n",
    "\\text{Min} \\sum_{i \\in I}\\sum_{j \\in J}c_{i,j} x_{i,j} \n",
    "\\end{equation}\n",
    "\n",
    "\\begin{equation}\n",
    "\\text{subject to} \\sum_{j \\in J} x_{i,j}=d_{i} \\quad  \\forall i \\in I \n",
    "\\end{equation}\n",
    "\n",
    "\\begin{equation}\n",
    "\\sum_{i \\in I} x_{i,j} <= M_{j} \\quad  \\forall j \\in J \n",
    "\\end{equation}\n",
    "\n",
    "\\begin{equation}\n",
    "x_{i,j} >= 0 \\quad  \\forall i \\in I,j \\in J \n",
    "\\end{equation}\n",
    "\n",
    "L'obiettivo finale è quello fornire la quantità necessaria di merce ad ogni cliente (soddisfacendo la domanda dei clienti e la capacità di produzione delle fabbriche) ad un costo di trasporto totale minimo. Per formulare questo problema dal punto di vista dell'ottimizzazione matematica occorre considerare 3 componenti principali:\n",
    "- **variabili decisionali**: quantità di merci da inviare dalla fabbrica j al cliente i (numeri reali positivi)\n",
    "- **vincoli**: la quantità totale di merce deve soddisfare sia la domanda dei clienti che la capacità di produzione della fabbrica\n",
    "- **funzione obiettivo**: comprensione dei valori delle variabili decisionali tali per cui il costo totale del trasporto sia minimizzato."
   ]
  },
  {
   "cell_type": "markdown",
   "metadata": {},
   "source": [
    "## Implementazione\n",
    "Per prima cosa è necessario definire le strutture dati utili al problema:"
   ]
  },
  {
   "cell_type": "code",
   "execution_count": 1,
   "metadata": {},
   "outputs": [],
   "source": [
    "import sys\n",
    "import numpy as np\n",
    "d = {1:80, 2:270, 3:250, 4:160, 5:180}  # domanda dei clienti\n",
    "M = {1:500, 2:500, 3:500}               # capacità delle fabbriche\n",
    "I = [1,2,3,4,5]                         # clienti\n",
    "J = [1,2,3]                             # fabbriche\n",
    "cost = {(1,1):4,    (1,2):6,    (1,3):9,\n",
    "     (2,1):5,    (2,2):4,    (2,3):7,\n",
    "     (3,1):6,    (3,2):3,    (3,3):3,\n",
    "     (4,1):8,    (4,2):5,    (4,3):3,\n",
    "     (5,1):10,   (5,2):8,    (5,3):4\n",
    "   }                                    # costi di trasporto"
   ]
  },
  {
   "cell_type": "markdown",
   "metadata": {},
   "source": [
    "Di seguito l'implementazione prosegue con l'utilizzo separato delle tre librerie considerate in questo benchmark:\n",
    "- SciPy\n",
    "- Pyomo\n",
    "- PuLP"
   ]
  },
  {
   "cell_type": "markdown",
   "metadata": {},
   "source": [
    "### SciPy"
   ]
  },
  {
   "cell_type": "code",
   "execution_count": 2,
   "metadata": {},
   "outputs": [],
   "source": [
    "# Trasformazione del dizionario dei costi in un array\n",
    "cost2d = np.empty([len(I), len(J)])\n",
    "for i in range(len(I)):\n",
    "    for j in range(len(J)):\n",
    "        cost2d[i,j] = cost[i+1,j+1]"
   ]
  },
  {
   "cell_type": "markdown",
   "metadata": {},
   "source": [
    "Definizione delle variabili decisionali"
   ]
  },
  {
   "cell_type": "code",
   "execution_count": 3,
   "metadata": {},
   "outputs": [],
   "source": [
    "x0 = np.ones(len(cost))*100\n",
    "bounds = list((0,max(d.values())) for _ in range(cost2d.size))"
   ]
  },
  {
   "cell_type": "markdown",
   "metadata": {},
   "source": [
    "Definizione della funzione obiettivo"
   ]
  },
  {
   "cell_type": "code",
   "execution_count": 4,
   "metadata": {},
   "outputs": [],
   "source": [
    "def objective(x):\n",
    "    obj_func = sum(x[idx]*cost2d[idx//len(J), idx%len(J)] for idx in range(cost2d.size))\n",
    "    return obj_func"
   ]
  },
  {
   "cell_type": "markdown",
   "metadata": {},
   "source": [
    "Definizione dei vincoli"
   ]
  },
  {
   "cell_type": "code",
   "execution_count": 5,
   "metadata": {},
   "outputs": [],
   "source": [
    "# Vincolo: somma delle merci == domanda dei clienti\n",
    "def const1():\n",
    "    tmp = []\n",
    "    for idx in range(0, cost2d.size, len(J)):\n",
    "        tmp_constr = {\n",
    "            'type': 'eq',\n",
    "            'fun': lambda x, idx: d[idx//len(J) + 1] - np.sum(x[idx: idx + len(J)]),\n",
    "            'args': (idx,)\n",
    "            }\n",
    "        tmp.append(tmp_constr)\n",
    "    return tmp\n",
    "# Vincolo: somma delle merci <= capacità della fabbrica\n",
    "def const2():\n",
    "    tmp = []\n",
    "    for idx in range(0, cost2d.size, len(I)):\n",
    "        tmp_constr = {\n",
    "            'type': 'ineq',\n",
    "            'fun': lambda x, idx=idx: M[idx//len(I) + 1] - np.sum(x[idx: idx + len(I)])\n",
    "            }\n",
    "        tmp.append(tmp_constr)\n",
    "    return tmp\n",
    "list_of_lists = [const1(), const2()]\n",
    "constraints = [item for sublist in list_of_lists for item in sublist]"
   ]
  },
  {
   "cell_type": "markdown",
   "metadata": {},
   "source": [
    "Calcolo della soluzione del modello tramite il metodo *SLSQP* (Sequential least squares programming).\n",
    "\n",
    "SLSQP è un metodo iterativo per l'ottimizzazione non lineare vincolata ed è stato scelto per paragonarlo ad approcci più adatti alla programmazione lineare"
   ]
  },
  {
   "cell_type": "code",
   "execution_count": 6,
   "metadata": {},
   "outputs": [
    {
     "name": "stderr",
     "output_type": "stream",
     "text": [
      "C:\\Users\\polic\\Anaconda3\\lib\\site-packages\\ipykernel_launcher.py:9: OptimizeWarning: Unknown solver options: full_output, xtol\n",
      "  if __name__ == '__main__':\n"
     ]
    }
   ],
   "source": [
    "from scipy.optimize import minimize\n",
    "solution = minimize(fun = objective,\n",
    "                x0 = x0,\n",
    "                bounds = bounds,\n",
    "                method = 'SLSQP',\n",
    "                constraints = constraints,\n",
    "                tol = None,\n",
    "                callback = None,\n",
    "                options = {'full_output':False, 'disp':False, 'xtol': 1e-8}\n",
    "                )"
   ]
  },
  {
   "cell_type": "markdown",
   "metadata": {},
   "source": [
    "Verifica dei risultati"
   ]
  },
  {
   "cell_type": "code",
   "execution_count": 7,
   "metadata": {},
   "outputs": [
    {
     "name": "stdout",
     "output_type": "stream",
     "text": [
      "La soluzione è feasible e ottimale\n",
      "Valore della funzione obiettivo =  3350.0000000194086\n",
      "Quantità inviata       80.0 dalla fabbrica   1 al cliente   1\n",
      "Quantità inviata      270.0 dalla fabbrica   2 al cliente   2\n",
      "Quantità inviata      125.0 dalla fabbrica   2 al cliente   3\n",
      "Quantità inviata      125.0 dalla fabbrica   3 al cliente   3\n",
      "Quantità inviata      160.0 dalla fabbrica   3 al cliente   4\n",
      "Quantità inviata      180.0 dalla fabbrica   3 al cliente   5\n"
     ]
    }
   ],
   "source": [
    "if (solution.success) and (solution.status == 0):\n",
    "    print(\"La soluzione è feasible e ottimale\")\n",
    "    print(\"Valore della funzione obiettivo = \", solution.fun)\n",
    "elif solution.status != 0:\n",
    "    print(\"Errore nel ritrovamento della soluzione. \", solution.status)\n",
    "else:\n",
    "    print(solution.message)\n",
    "if solution.success:\n",
    "    EPS = 1.e-6\n",
    "    for i,_ in enumerate(solution.x):\n",
    "        if solution.x[i] > EPS:\n",
    "            print(\"Quantità inviata %10s dalla fabbrica %3s al cliente %3s\" % (round(solution.x[i]), i%len(J) + 1, i//len(J) + 1))"
   ]
  },
  {
   "cell_type": "markdown",
   "metadata": {},
   "source": [
    "### Pyomo"
   ]
  },
  {
   "cell_type": "code",
   "execution_count": 8,
   "metadata": {},
   "outputs": [],
   "source": [
    "from pyomo import environ as pe\n",
    "# ConcreteModel è il modello in cui i dati vengono forniti al momento della definizione. Di contro, AbstractModel necessita di un file di dati\n",
    "model = pe.ConcreteModel()\n",
    "# conversione degli iterabili in oggetti\n",
    "model.d_cust_demand = pe.Set(initialize = d.keys())\n",
    "model.M_fact_capacity = pe.Set(initialize = M.keys())\n",
    "# Parametri\n",
    "model.transport_cost = pe.Param(\n",
    "    model.d_cust_demand * model.M_fact_capacity,\n",
    "    initialize = cost,\n",
    "    within = pe.NonNegativeReals)\n",
    "model.cust_demand = pe.Param(model.d_cust_demand, \n",
    "    initialize = d,\n",
    "    within = pe.NonNegativeReals)\n",
    "model.fact_capacity = pe.Param(model.M_fact_capacity, \n",
    "    initialize = M,\n",
    "    within = pe.NonNegativeReals)"
   ]
  },
  {
   "cell_type": "markdown",
   "metadata": {},
   "source": [
    "Definizione variabili decisionali"
   ]
  },
  {
   "cell_type": "code",
   "execution_count": 9,
   "metadata": {},
   "outputs": [],
   "source": [
    "model.x = pe.Var(\n",
    "    model.d_cust_demand * model.M_fact_capacity,\n",
    "    domain = pe.NonNegativeReals,\n",
    "    bounds = (0, max(d.values())))"
   ]
  },
  {
   "cell_type": "markdown",
   "metadata": {},
   "source": [
    "Definizione funzione obiettivo"
   ]
  },
  {
   "cell_type": "code",
   "execution_count": 10,
   "metadata": {},
   "outputs": [],
   "source": [
    "model.objective = pe.Objective(\n",
    "    expr = pe.summation(model.transport_cost, model.x),\n",
    "    sense = pe.minimize)"
   ]
  },
  {
   "cell_type": "markdown",
   "metadata": {},
   "source": [
    "Definizione dei vincoli"
   ]
  },
  {
   "cell_type": "code",
   "execution_count": 11,
   "metadata": {},
   "outputs": [],
   "source": [
    "# Vincolo: somma delle merci == domanda dei clienti\n",
    "def meet_demand(model, customer):\n",
    "    sum_of_goods_from_factories = sum(model.x[customer,factory] for factory in model.M_fact_capacity)\n",
    "    customer_demand = model.cust_demand[customer]\n",
    "    return sum_of_goods_from_factories == customer_demand\n",
    "model.Constraint1 = pe.Constraint(model.d_cust_demand, rule = meet_demand)\n",
    "# Vincolo: somma delle merci <= capacità della fabbrica\n",
    "def meet_capacity(model, factory):\n",
    "    sum_of_goods_for_customers = sum(model.x[customer,factory] for customer in model.d_cust_demand)\n",
    "    factory_capacity = model.fact_capacity[factory]\n",
    "    return sum_of_goods_for_customers <= factory_capacity\n",
    "model.Constraint2 = pe.Constraint(model.M_fact_capacity, rule = meet_demand)"
   ]
  },
  {
   "cell_type": "markdown",
   "metadata": {},
   "source": [
    "Calcolo della soluzione.\n",
    "\n",
    "Tramite la funzione *SolverFactory* è possibile richiamare differenti risolutori sia open source che commerciali, ne sono un esempio *gurobi* o *glpk*. (viene utilizzato gurobi perchè si utilizzerà glpk tramite la libreria successiva)\n",
    "\n",
    "Il primo non fornisce dettagli sull'implementazione, essendo un software commerciale. \n",
    "\n",
    "Il secondo è open source, implementa il metodo del simplesso ed il metodo del punto interno per la risoluzione di problemi lineari. Per la risolzione di problemi interi e misti viene utilizzato il metodo del branch and bound."
   ]
  },
  {
   "cell_type": "code",
   "execution_count": 12,
   "metadata": {},
   "outputs": [],
   "source": [
    "solver = pe.SolverFactory(\"gurobi\") #glpk\n",
    "solution = solver.solve(model)"
   ]
  },
  {
   "cell_type": "markdown",
   "metadata": {},
   "source": [
    "Verifica dei risultati"
   ]
  },
  {
   "cell_type": "code",
   "execution_count": 13,
   "metadata": {},
   "outputs": [
    {
     "name": "stdout",
     "output_type": "stream",
     "text": [
      "La soluzione è feasible e ottimale\n",
      "Valore della funzione obiettivo =  3350.0\n",
      "Quantità inviata       80.0 dalla fabbrica   1 al cliente   1\n",
      "Quantità inviata      270.0 dalla fabbrica   2 al cliente   2\n",
      "Quantità inviata      250.0 dalla fabbrica   3 al cliente   3\n",
      "Quantità inviata      160.0 dalla fabbrica   3 al cliente   4\n",
      "Quantità inviata      180.0 dalla fabbrica   3 al cliente   5\n"
     ]
    }
   ],
   "source": [
    "from pyomo.opt import SolverStatus, TerminationCondition\n",
    "if (solution.solver.status == SolverStatus.ok) and (solution.solver.termination_condition == TerminationCondition.optimal):\n",
    "    print(\"La soluzione è feasible e ottimale\")\n",
    "    print(\"Valore della funzione obiettivo = \", model.objective())\n",
    "elif solution.solver.termination_condition == TerminationCondition.infeasible:\n",
    "    print (\"Errore nel ritrovamento della soluzione. \")\n",
    "else:\n",
    "    print(str(solution.solver))\n",
    "assignments = model.x.get_values().items()\n",
    "EPS = 1.e-6\n",
    "for (customer,factory),x in sorted(assignments):\n",
    "    if x > EPS:\n",
    "        print(\"Quantità inviata %10s dalla fabbrica %3s al cliente %3s\" % (x, factory, customer))"
   ]
  },
  {
   "cell_type": "markdown",
   "metadata": {},
   "source": [
    "## PuLP"
   ]
  },
  {
   "cell_type": "markdown",
   "metadata": {},
   "source": [
    "Definizione delle variabili decisionali"
   ]
  },
  {
   "cell_type": "code",
   "execution_count": 14,
   "metadata": {},
   "outputs": [],
   "source": [
    "import pulp\n",
    "x = pulp.LpVariable.dicts(\"amount of goods\", ((i, j) for i in I for j in J), lowBound = 0, cat = 'Continuous')"
   ]
  },
  {
   "cell_type": "markdown",
   "metadata": {},
   "source": [
    "Definizione funzione obiettivo"
   ]
  },
  {
   "cell_type": "code",
   "execution_count": 15,
   "metadata": {},
   "outputs": [
    {
     "name": "stderr",
     "output_type": "stream",
     "text": [
      "C:\\Users\\polic\\Anaconda3\\lib\\site-packages\\pulp\\pulp.py:1352: UserWarning: Spaces are not permitted in the name. Converted to '_'\n",
      "  warnings.warn(\"Spaces are not permitted in the name. Converted to '_'\")\n"
     ]
    }
   ],
   "source": [
    "objective = pulp.LpAffineExpression(e = [(x[i,j],cost[i,j]) for i,j in x], name = 'Objective function')\n",
    "model = pulp.LpProblem(name = \"Transportation cost minimization\", \n",
    "                        sense = pulp.LpMinimize)\n",
    "model += pulp.lpSum(objective)"
   ]
  },
  {
   "cell_type": "markdown",
   "metadata": {},
   "source": [
    "Definizione dei vincoli"
   ]
  },
  {
   "cell_type": "code",
   "execution_count": 16,
   "metadata": {},
   "outputs": [],
   "source": [
    "# Vincolo: somma delle merci == domanda dei clienti\n",
    "for i in I:\n",
    "    tmpExpression = pulp.LpAffineExpression(e = [(x[i,j], 1) for j in J if (i,j) in x])\n",
    "    tmpConstraint = pulp.LpConstraint(e = pulp.lpSum(tmpExpression),\n",
    "        sense = pulp.LpConstraintEQ,                                \n",
    "        rhs = d[i])\n",
    "    model.addConstraint(tmpConstraint)\n",
    "# Vincolo: somma delle merci <= capacità della fabbrica\n",
    "for j in J:\n",
    "    tmpExpression = pulp.LpAffineExpression(e = [(x[i,j], 1) for j in J if (i,j) in x])\n",
    "    tmpConstraint = pulp.LpConstraint(e = pulp.lpSum(tmpExpression),\n",
    "        sense = pulp.LpConstraintLE,\n",
    "        rhs = M[j])\n",
    "    model.addConstraint(tmpConstraint)"
   ]
  },
  {
   "cell_type": "markdown",
   "metadata": {},
   "source": [
    "Calcolo della soluzione tramite *glpk*"
   ]
  },
  {
   "cell_type": "code",
   "execution_count": 17,
   "metadata": {},
   "outputs": [],
   "source": [
    "solver = pulp.apis.glpk_api.GLPK_CMD(msg=0)\n",
    "results = model.solve(solver)"
   ]
  },
  {
   "cell_type": "markdown",
   "metadata": {},
   "source": [
    "Verifica  dei risultati"
   ]
  },
  {
   "cell_type": "code",
   "execution_count": 18,
   "metadata": {},
   "outputs": [
    {
     "name": "stdout",
     "output_type": "stream",
     "text": [
      "La soluzione è: Optimal\n",
      "Valore della funzione obiettivo = 3350.0\n",
      "Quantità inviata       80.0 dalla fabbrica   1 al cliente   1\n",
      "Quantità inviata      270.0 dalla fabbrica   2 al cliente   2\n",
      "Quantità inviata      250.0 dalla fabbrica   2 al cliente   3\n",
      "Quantità inviata      160.0 dalla fabbrica   3 al cliente   4\n",
      "Quantità inviata      180.0 dalla fabbrica   3 al cliente   5\n"
     ]
    }
   ],
   "source": [
    "if model.status == 1:\n",
    "    print('La soluzione è: %s' %pulp.LpStatus[model.status])\n",
    "else:\n",
    "    print('Errore nel ritrovamento della soluzione: %s' %pulp.LpStatus[model.status])\n",
    "print('Valore della funzione obiettivo =', pulp.value(model.objective))\n",
    "EPS = 1.e-6\n",
    "for (i,j) in x:\n",
    "    if x[i,j].varValue > EPS:\n",
    "        print(\"Quantità inviata %10s dalla fabbrica %3s al cliente %3s\" % (x[i,j].varValue,j,i))"
   ]
  },
  {
   "cell_type": "markdown",
   "metadata": {},
   "source": [
    "## Discussione dei risultati\n",
    "Da questa esercitazione si può evincere che tutte e tre le librerie hanno identificato pressocchè lo stesso valore per la funzione obiettivo (anche per via della semplicità del problema).\n",
    "Tuttavia, il solver *SLSQP* utilizzato in **SciPy** ha ottenuto un valore della funzione obiettivo leggermente peggiore, per via della natura del risolutore più adatto a problemi di programmazione non lineare, rispetto a *GLPK* e *Gurobi* utilizzati da **PuLP** e **Pyomo**.\n",
    "\n",
    "\n",
    "Le librerie di ottimizzazione prese in esame sono abbastanza differenti sia nella sintassi implementativa che nella filosofia, free o commericale. **SciPy** è probabilmente la più supportata, ha il maggior numero di features e utilizza una semplice sintassi Python. Tuttavia, non supporta i problemi di ottimizzazione binaria.\n",
    "**PuLP** e **Pyomo** hanno una struttura sintattica piuttosto simile.\n",
    "**PuLP** è probabilmente la libreria più semplice da utilizzare, tuttavia può gestire solo problemi di ottimizzazione lineare. **Pyomo** risulta avere più seguito di PuLP, supporta problemi di ottimizzazione non lineare e può eseguire anche ottimizzazione multi-obiettivo, sfruttando una grande quantità di risolutori differenti."
   ]
  }
 ],
 "metadata": {
  "interpreter": {
   "hash": "b20df4bf313f1823371d65a985ecf9585dcd6ef62f29c72103cfaf00750eddee"
  },
  "kernelspec": {
   "display_name": "Python 3.7.11 64-bit ('base': conda)",
   "language": "python",
   "name": "python3"
  },
  "language_info": {
   "codemirror_mode": {
    "name": "ipython",
    "version": 3
   },
   "file_extension": ".py",
   "mimetype": "text/x-python",
   "name": "python",
   "nbconvert_exporter": "python",
   "pygments_lexer": "ipython3",
   "version": "3.7.11"
  },
  "orig_nbformat": 4
 },
 "nbformat": 4,
 "nbformat_minor": 2
}
