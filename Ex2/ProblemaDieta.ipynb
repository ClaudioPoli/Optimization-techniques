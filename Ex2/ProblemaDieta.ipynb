{
 "cells": [
  {
   "cell_type": "markdown",
   "metadata": {},
   "source": [
    "# PROBLEMA DELLA DIETA"
   ]
  },
  {
   "cell_type": "markdown",
   "metadata": {},
   "source": [
    "## Obiettivo e Prerequisiti\n",
    "L'obiettivo di questo problema di ottimizzazione è quello di definire una dieta, sulla base dei dati messi a disposizione riguardanti alimenti e relativi valori nutrizionali, al minor costo possibile.\n",
    "\n",
    "In questa esercitazione si farà uso della libreria dedicata all'ottimizzazione matematica **PuLP**\n",
    "\n",
    "## Descrizione del problema\n",
    "Supponendo di essere il responsabile della definizione di una dieta per la mensa scolastica, è necessario assicurarsi che gli studenti mantengano un giusto equilibrio nutrizionale, tenendo conto di alcune restrizioni in termini di budget e varietà di cibo che deve essere presente nella dieta.\n",
    "\n",
    "## Formulazione del modello\n",
    "Da un punto di vista meramente numerico Il problema di ottimizzazione consiste nel minimizzare il costo del pranzo considerando dei vincoli (sul totale delle calorie o anche su ognuna delle componenti nutrizionali).\n",
    "Quanto appena riportato si può formalizzare come segue:\n",
    "\n",
    "\\begin{equation}\n",
    "c_{i} \\text{: costo unitario del i-esimo alimento}\n",
    "\\end{equation}\n",
    "\\begin{equation}\n",
    "f_{i} \\text{: quantità del i-esimo alimento}\n",
    "\\end{equation}\n",
    "\n",
    "\\begin{equation}\n",
    "\\text{Min} \\quad :\\sum_{i=1..n}C_{i} \\cdot f_{i}\n",
    "\\end{equation}\n",
    "\n",
    "\\begin{equation}\n",
    "\\text{subject to calorieLB <}\\quad\\sum_{i=1..n}Cal_{i} \\cdot f_{i} \\text{< calorieUB }\n",
    "\\end{equation}\n",
    "\n",
    "\\begin{equation}\n",
    "\\text{subject to proteineLB <}\\quad\\sum_{i=1..n}Pro_{i} \\cdot f_{i} \\text{< proteineUB }\n",
    "\\end{equation}"
   ]
  },
  {
   "cell_type": "markdown",
   "metadata": {},
   "source": [
    "## Implementazione"
   ]
  },
  {
   "cell_type": "markdown",
   "metadata": {},
   "source": [
    "### Lettura del dataset contenente i dati nutrizionali\n",
    "Importing del file *dieta.xls*, il quale è stato reperito da Kaggle."
   ]
  },
  {
   "cell_type": "code",
   "execution_count": 23,
   "metadata": {},
   "outputs": [],
   "source": [
    "import pandas as pd\n",
    "df = pd.read_excel(\"dieta.xls\",nrows=64)"
   ]
  },
  {
   "cell_type": "code",
   "execution_count": 24,
   "metadata": {},
   "outputs": [
    {
     "data": {
      "text/html": [
       "<div>\n",
       "<style scoped>\n",
       "    .dataframe tbody tr th:only-of-type {\n",
       "        vertical-align: middle;\n",
       "    }\n",
       "\n",
       "    .dataframe tbody tr th {\n",
       "        vertical-align: top;\n",
       "    }\n",
       "\n",
       "    .dataframe thead th {\n",
       "        text-align: right;\n",
       "    }\n",
       "</style>\n",
       "<table border=\"1\" class=\"dataframe\">\n",
       "  <thead>\n",
       "    <tr style=\"text-align: right;\">\n",
       "      <th></th>\n",
       "      <th>Foods</th>\n",
       "      <th>Price/ Serving</th>\n",
       "      <th>Serving Size</th>\n",
       "      <th>Calories</th>\n",
       "      <th>Cholesterol mg</th>\n",
       "      <th>Total_Fat g</th>\n",
       "      <th>Sodium mg</th>\n",
       "      <th>Carbohydrates g</th>\n",
       "      <th>Dietary_Fiber g</th>\n",
       "      <th>Protein g</th>\n",
       "      <th>Vit_A IU</th>\n",
       "      <th>Vit_C IU</th>\n",
       "      <th>Calcium mg</th>\n",
       "      <th>Iron mg</th>\n",
       "    </tr>\n",
       "  </thead>\n",
       "  <tbody>\n",
       "    <tr>\n",
       "      <th>0</th>\n",
       "      <td>Frozen Broccoli</td>\n",
       "      <td>0.16</td>\n",
       "      <td>10 Oz Pkg</td>\n",
       "      <td>73.8</td>\n",
       "      <td>0.0</td>\n",
       "      <td>0.8</td>\n",
       "      <td>68.2</td>\n",
       "      <td>13.6</td>\n",
       "      <td>8.5</td>\n",
       "      <td>8.0</td>\n",
       "      <td>5867.4</td>\n",
       "      <td>160.2</td>\n",
       "      <td>159.0</td>\n",
       "      <td>2.3</td>\n",
       "    </tr>\n",
       "    <tr>\n",
       "      <th>1</th>\n",
       "      <td>Carrots,Raw</td>\n",
       "      <td>0.07</td>\n",
       "      <td>1/2 Cup Shredded</td>\n",
       "      <td>23.7</td>\n",
       "      <td>0.0</td>\n",
       "      <td>0.1</td>\n",
       "      <td>19.2</td>\n",
       "      <td>5.6</td>\n",
       "      <td>1.6</td>\n",
       "      <td>0.6</td>\n",
       "      <td>15471.0</td>\n",
       "      <td>5.1</td>\n",
       "      <td>14.9</td>\n",
       "      <td>0.3</td>\n",
       "    </tr>\n",
       "    <tr>\n",
       "      <th>2</th>\n",
       "      <td>Celery, Raw</td>\n",
       "      <td>0.04</td>\n",
       "      <td>1 Stalk</td>\n",
       "      <td>6.4</td>\n",
       "      <td>0.0</td>\n",
       "      <td>0.1</td>\n",
       "      <td>34.8</td>\n",
       "      <td>1.5</td>\n",
       "      <td>0.7</td>\n",
       "      <td>0.3</td>\n",
       "      <td>53.6</td>\n",
       "      <td>2.8</td>\n",
       "      <td>16.0</td>\n",
       "      <td>0.2</td>\n",
       "    </tr>\n",
       "    <tr>\n",
       "      <th>3</th>\n",
       "      <td>Frozen Corn</td>\n",
       "      <td>0.18</td>\n",
       "      <td>1/2 Cup</td>\n",
       "      <td>72.2</td>\n",
       "      <td>0.0</td>\n",
       "      <td>0.6</td>\n",
       "      <td>2.5</td>\n",
       "      <td>17.1</td>\n",
       "      <td>2.0</td>\n",
       "      <td>2.5</td>\n",
       "      <td>106.6</td>\n",
       "      <td>5.2</td>\n",
       "      <td>3.3</td>\n",
       "      <td>0.3</td>\n",
       "    </tr>\n",
       "    <tr>\n",
       "      <th>4</th>\n",
       "      <td>Lettuce,Iceberg,Raw</td>\n",
       "      <td>0.02</td>\n",
       "      <td>1 Leaf</td>\n",
       "      <td>2.6</td>\n",
       "      <td>0.0</td>\n",
       "      <td>0.0</td>\n",
       "      <td>1.8</td>\n",
       "      <td>0.4</td>\n",
       "      <td>0.3</td>\n",
       "      <td>0.2</td>\n",
       "      <td>66.0</td>\n",
       "      <td>0.8</td>\n",
       "      <td>3.8</td>\n",
       "      <td>0.1</td>\n",
       "    </tr>\n",
       "  </tbody>\n",
       "</table>\n",
       "</div>"
      ],
      "text/plain": [
       "                 Foods  Price/ Serving      Serving Size  Calories  \\\n",
       "0      Frozen Broccoli            0.16         10 Oz Pkg      73.8   \n",
       "1          Carrots,Raw            0.07  1/2 Cup Shredded      23.7   \n",
       "2          Celery, Raw            0.04           1 Stalk       6.4   \n",
       "3          Frozen Corn            0.18           1/2 Cup      72.2   \n",
       "4  Lettuce,Iceberg,Raw            0.02            1 Leaf       2.6   \n",
       "\n",
       "   Cholesterol mg  Total_Fat g  Sodium mg  Carbohydrates g  Dietary_Fiber g  \\\n",
       "0             0.0          0.8       68.2             13.6              8.5   \n",
       "1             0.0          0.1       19.2              5.6              1.6   \n",
       "2             0.0          0.1       34.8              1.5              0.7   \n",
       "3             0.0          0.6        2.5             17.1              2.0   \n",
       "4             0.0          0.0        1.8              0.4              0.3   \n",
       "\n",
       "   Protein g  Vit_A IU  Vit_C IU  Calcium mg  Iron mg  \n",
       "0        8.0    5867.4     160.2       159.0      2.3  \n",
       "1        0.6   15471.0       5.1        14.9      0.3  \n",
       "2        0.3      53.6       2.8        16.0      0.2  \n",
       "3        2.5     106.6       5.2         3.3      0.3  \n",
       "4        0.2      66.0       0.8         3.8      0.1  "
      ]
     },
     "execution_count": 24,
     "metadata": {},
     "output_type": "execute_result"
    }
   ],
   "source": [
    "# Visualizzazione delle prime righe del dataset\n",
    "df.head()"
   ]
  },
  {
   "cell_type": "markdown",
   "metadata": {},
   "source": [
    "## Creazione del PL"
   ]
  },
  {
   "cell_type": "code",
   "execution_count": 25,
   "metadata": {},
   "outputs": [
    {
     "name": "stderr",
     "output_type": "stream",
     "text": [
      "C:\\Users\\polic\\Anaconda3\\lib\\site-packages\\pulp\\pulp.py:1352: UserWarning: Spaces are not permitted in the name. Converted to '_'\n",
      "  warnings.warn(\"Spaces are not permitted in the name. Converted to '_'\")\n"
     ]
    }
   ],
   "source": [
    "from pulp import *\n",
    "# Creazione della variabile 'PuLP'. \n",
    "# Dal momento che si tratta di un problema di minimizzazione, occorre utilizzare 'LpMinimize'\n",
    "prob = LpProblem(\"Diet Problem\",LpMinimize)"
   ]
  },
  {
   "cell_type": "markdown",
   "metadata": {},
   "source": [
    "## Data Handling"
   ]
  },
  {
   "cell_type": "code",
   "execution_count": 26,
   "metadata": {},
   "outputs": [],
   "source": [
    "# creazione di una lista contenente tutti gli alimenti\n",
    "food_items = list(df['Foods'])"
   ]
  },
  {
   "cell_type": "code",
   "execution_count": 27,
   "metadata": {},
   "outputs": [
    {
     "name": "stdout",
     "output_type": "stream",
     "text": [
      "Gli alimenti da considerare in questo problema sono:\n",
      "----------------------------------------------------------------------------------------------------\n",
      "Frozen Broccoli, Carrots,Raw, Celery, Raw, Frozen Corn, Lettuce,Iceberg,Raw, Peppers, Sweet, Raw, Potatoes, Baked, Tofu, Roasted Chicken, Spaghetti W/ Sauce, Tomato,Red,Ripe,Raw, Apple,Raw,W/Skin, Banana, Grapes, Kiwifruit,Raw,Fresh, Oranges, Bagels, Wheat Bread, White Bread, Oatmeal Cookies, Apple Pie, Chocolate Chip Cookies, Butter,Regular, Cheddar Cheese, 3.3% Fat,Whole Milk, 2% Lowfat Milk, Skim Milk, Poached Eggs, Scrambled Eggs, Bologna,Turkey, Frankfurter, Beef, Ham,Sliced,Extralean, Kielbasa,Prk, Cap'N Crunch, Cheerios, Corn Flks, Kellogg'S, Raisin Brn, Kellg'S, Rice Krispies, Special K, Oatmeal, Malt-O-Meal,Choc, Pizza W/Pepperoni, Taco, Hamburger W/Toppings, Hotdog, Plain, Couscous, White Rice, Macaroni,Ckd, Peanut Butter, Pork, Sardines in Oil, White Tuna in Water, Popcorn,Air-Popped, Potato Chips,Bbqflvr, Pretzels, Tortilla Chip, Chicknoodl Soup, Splt Pea&Hamsoup, Vegetbeef Soup, Neweng Clamchwd, Tomato Soup, New E Clamchwd,W/Mlk, Crm Mshrm Soup,W/Mlk, Beanbacn Soup,W/Watr, "
     ]
    }
   ],
   "source": [
    "print(\"Gli alimenti da considerare in questo problema sono:\\n\"+\"-\"*100)\n",
    "for f in food_items:\n",
    "    print(f,end=', ')"
   ]
  },
  {
   "cell_type": "markdown",
   "metadata": {},
   "source": [
    "### Creazione dizionari\n",
    "Costi per tutti gli alimenti"
   ]
  },
  {
   "cell_type": "code",
   "execution_count": 28,
   "metadata": {},
   "outputs": [
    {
     "data": {
      "text/plain": [
       "{'Frozen Broccoli': 0.16,\n",
       " 'Carrots,Raw': 0.07,\n",
       " 'Celery, Raw': 0.04,\n",
       " 'Frozen Corn': 0.18,\n",
       " 'Lettuce,Iceberg,Raw': 0.02,\n",
       " 'Peppers, Sweet, Raw': 0.53,\n",
       " 'Potatoes, Baked': 0.06,\n",
       " 'Tofu': 0.31,\n",
       " 'Roasted Chicken': 0.84,\n",
       " 'Spaghetti W/ Sauce': 0.78,\n",
       " 'Tomato,Red,Ripe,Raw': 0.27,\n",
       " 'Apple,Raw,W/Skin': 0.24,\n",
       " 'Banana': 0.15,\n",
       " 'Grapes': 0.32,\n",
       " 'Kiwifruit,Raw,Fresh': 0.49,\n",
       " 'Oranges': 0.15,\n",
       " 'Bagels': 0.16,\n",
       " 'Wheat Bread': 0.05,\n",
       " 'White Bread': 0.06,\n",
       " 'Oatmeal Cookies': 0.09,\n",
       " 'Apple Pie': 0.16,\n",
       " 'Chocolate Chip Cookies': 0.03,\n",
       " 'Butter,Regular': 0.05,\n",
       " 'Cheddar Cheese': 0.25,\n",
       " '3.3% Fat,Whole Milk': 0.16,\n",
       " '2% Lowfat Milk': 0.23,\n",
       " 'Skim Milk': 0.13,\n",
       " 'Poached Eggs': 0.08,\n",
       " 'Scrambled Eggs': 0.11,\n",
       " 'Bologna,Turkey': 0.15,\n",
       " 'Frankfurter, Beef': 0.27,\n",
       " 'Ham,Sliced,Extralean': 0.33,\n",
       " 'Kielbasa,Prk': 0.15,\n",
       " \"Cap'N Crunch\": 0.31,\n",
       " 'Cheerios': 0.28,\n",
       " \"Corn Flks, Kellogg'S\": 0.28,\n",
       " \"Raisin Brn, Kellg'S\": 0.34,\n",
       " 'Rice Krispies': 0.32,\n",
       " 'Special K': 0.38,\n",
       " 'Oatmeal': 0.82,\n",
       " 'Malt-O-Meal,Choc': 0.52,\n",
       " 'Pizza W/Pepperoni': 0.44,\n",
       " 'Taco': 0.59,\n",
       " 'Hamburger W/Toppings': 0.83,\n",
       " 'Hotdog, Plain': 0.31,\n",
       " 'Couscous': 0.39,\n",
       " 'White Rice': 0.08,\n",
       " 'Macaroni,Ckd': 0.17,\n",
       " 'Peanut Butter': 0.07,\n",
       " 'Pork': 0.81,\n",
       " 'Sardines in Oil': 0.45,\n",
       " 'White Tuna in Water': 0.69,\n",
       " 'Popcorn,Air-Popped': 0.04,\n",
       " 'Potato Chips,Bbqflvr': 0.22,\n",
       " 'Pretzels': 0.12,\n",
       " 'Tortilla Chip': 0.19,\n",
       " 'Chicknoodl Soup': 0.39,\n",
       " 'Splt Pea&Hamsoup': 0.67,\n",
       " 'Vegetbeef Soup': 0.71,\n",
       " 'Neweng Clamchwd': 0.75,\n",
       " 'Tomato Soup': 0.39,\n",
       " 'New E Clamchwd,W/Mlk': 0.99,\n",
       " 'Crm Mshrm Soup,W/Mlk': 0.65,\n",
       " 'Beanbacn Soup,W/Watr': 0.67}"
      ]
     },
     "execution_count": 28,
     "metadata": {},
     "output_type": "execute_result"
    }
   ],
   "source": [
    "costs = dict(zip(food_items,df['Price/ Serving']))\n",
    "costs"
   ]
  },
  {
   "cell_type": "markdown",
   "metadata": {},
   "source": [
    "Dizionario per tutti gli alimenti relativamente a:\n",
    "- Calorie\n",
    "- Colesterolo\n",
    "- Grassi\n",
    "- Sodio\n",
    "- Carboidrati\n",
    "- Fibre\n",
    "- Proteine\n",
    "- Vitamina A\n",
    "- Vitamina C\n",
    "- Calcio\n",
    "- Ferro"
   ]
  },
  {
   "cell_type": "code",
   "execution_count": 29,
   "metadata": {},
   "outputs": [],
   "source": [
    "calories = dict(zip(food_items,df['Calories']))\n",
    "cholesterol = dict(zip(food_items,df['Cholesterol mg']))\n",
    "fat = dict(zip(food_items,df['Total_Fat g']))\n",
    "sodium = dict(zip(food_items,df['Sodium mg']))\n",
    "carbs = dict(zip(food_items,df['Carbohydrates g']))\n",
    "fiber = dict(zip(food_items,df['Dietary_Fiber g']))\n",
    "protein = dict(zip(food_items,df['Protein g']))\n",
    "vit_A = dict(zip(food_items,df['Vit_A IU']))\n",
    "vit_C = dict(zip(food_items,df['Vit_C IU']))\n",
    "calcium = dict(zip(food_items,df['Calcium mg']))\n",
    "iron = dict(zip(food_items,df['Iron mg']))"
   ]
  },
  {
   "cell_type": "markdown",
   "metadata": {},
   "source": [
    "Dizionario di alimenti aventi **limite inferiore** = 0 e categoria Integer, ovvero la soluzione di ottimizzazione può assumere qualsiasi valore con numero intero maggiore di zero.\n",
    "\n",
    "Si utilizza la categoria **Integer** perchè si può pensare ad una porzione di cibo solo come una quantità intera e non negativa.\n",
    "Senza un'esplicita dichiarazione di questo limite, la soluzione potrebbe essere priva di senso in quanto il solver potrebbe provare a fornire quantità negative o reali per ridurre il costo totale."
   ]
  },
  {
   "cell_type": "code",
   "execution_count": 30,
   "metadata": {},
   "outputs": [],
   "source": [
    "# Creazione del dizionario 'food_vars' per contenere le variabili di riferimento\n",
    "food_vars = LpVariable.dicts(\"Portion\",food_items,lowBound=0,cat='Integer')\n"
   ]
  },
  {
   "cell_type": "markdown",
   "metadata": {},
   "source": [
    "Dizionario per comprendere i cibi scelti o meno tramite i valori 0 o 1."
   ]
  },
  {
   "cell_type": "code",
   "execution_count": 31,
   "metadata": {},
   "outputs": [],
   "source": [
    "food_chosen = LpVariable.dicts(\"Chosen\",food_items,0,1,cat='Integer')"
   ]
  },
  {
   "cell_type": "markdown",
   "metadata": {},
   "source": [
    "## Definizione del PL"
   ]
  },
  {
   "cell_type": "code",
   "execution_count": 32,
   "metadata": {},
   "outputs": [],
   "source": [
    "# Funzione obiettivo\n",
    "prob += lpSum([costs[i]*food_vars[i] for i in food_items]), \"Total Cost of the balanced diet\""
   ]
  },
  {
   "cell_type": "markdown",
   "metadata": {},
   "source": [
    "## Vincoli\n",
    "### Vincoli relativi ai valori nutrizionali al problema"
   ]
  },
  {
   "cell_type": "code",
   "execution_count": 33,
   "metadata": {},
   "outputs": [],
   "source": [
    "# Calorie\n",
    "prob += lpSum([calories[f] * food_vars[f] for f in food_items]) >= 1500.0, \"CalorieMinimum\"\n",
    "prob += lpSum([calories[f] * food_vars[f] for f in food_items]) <= 2500.0, \"CalorieMaximum\"\n",
    "\n",
    "# Colesterolo\n",
    "prob += lpSum([cholesterol[f] * food_vars[f] for f in food_items]) >= 30.0, \"CholesterolMinimum\"\n",
    "prob += lpSum([cholesterol[f] * food_vars[f] for f in food_items]) <= 240.0, \"CholesterolMaximum\"\n",
    "\n",
    "# Grassi\n",
    "prob += lpSum([fat[f] * food_vars[f] for f in food_items]) >= 20.0, \"FatMinimum\"\n",
    "prob += lpSum([fat[f] * food_vars[f] for f in food_items]) <= 70.0, \"FatMaximum\"\n",
    "\n",
    "# Sodio\n",
    "prob += lpSum([sodium[f] * food_vars[f] for f in food_items]) >= 800.0, \"SodiumMinimum\"\n",
    "prob += lpSum([sodium[f] * food_vars[f] for f in food_items]) <= 2000.0, \"SodiumMaximum\"\n",
    "\n",
    "# Carboidrati\n",
    "prob += lpSum([carbs[f] * food_vars[f] for f in food_items]) >= 130.0, \"CarbsMinimum\"\n",
    "prob += lpSum([carbs[f] * food_vars[f] for f in food_items]) <= 450.0, \"CarbsMaximum\"\n",
    "\n",
    "# Fibre\n",
    "prob += lpSum([fiber[f] * food_vars[f] for f in food_items]) >= 125.0, \"FiberMinimum\"\n",
    "prob += lpSum([fiber[f] * food_vars[f] for f in food_items]) <= 250.0, \"FiberMaximum\"\n",
    "\n",
    "# Proteine\n",
    "prob += lpSum([protein[f] * food_vars[f] for f in food_items]) >= 60.0, \"ProteinMinimum\"\n",
    "prob += lpSum([protein[f] * food_vars[f] for f in food_items]) <= 100.0, \"ProteinMaximum\"\n",
    "\n",
    "# Vitamina A\n",
    "prob += lpSum([vit_A[f] * food_vars[f] for f in food_items]) >= 1000.0, \"VitaminAMinimum\"\n",
    "prob += lpSum([vit_A[f] * food_vars[f] for f in food_items]) <= 10000.0, \"VitaminAMaximum\"\n",
    "\n",
    "# Vitamina C\n",
    "prob += lpSum([vit_C[f] * food_vars[f] for f in food_items]) >= 400.0, \"VitaminCMinimum\"\n",
    "prob += lpSum([vit_C[f] * food_vars[f] for f in food_items]) <= 5000.0, \"VitaminCMaximum\"\n",
    "\n",
    "# Calcio\n",
    "prob += lpSum([calcium[f] * food_vars[f] for f in food_items]) >= 700.0, \"CalciumMinimum\"\n",
    "prob += lpSum([calcium[f] * food_vars[f] for f in food_items]) <= 1500.0, \"CalciumMaximum\"\n",
    "\n",
    "# Ferro\n",
    "prob += lpSum([iron[f] * food_vars[f] for f in food_items]) >= 10.0, \"IronMinimum\"\n",
    "prob += lpSum([iron[f] * food_vars[f] for f in food_items]) <= 40.0, \"IronMaximum\""
   ]
  },
  {
   "cell_type": "code",
   "execution_count": 34,
   "metadata": {},
   "outputs": [],
   "source": [
    "# loop per linkare food_vars e food_chosen\n",
    "for f in food_items:\n",
    "    prob += food_vars[f]>= food_chosen[f]*0.1\n",
    "    prob += food_vars[f]<= food_chosen[f]*1e5"
   ]
  },
  {
   "cell_type": "markdown",
   "metadata": {},
   "source": [
    "### Vincolo per sedano e broccoli\n",
    "Presenza di al più 1 dei due alimenti in dieta"
   ]
  },
  {
   "cell_type": "code",
   "execution_count": 35,
   "metadata": {},
   "outputs": [],
   "source": [
    "prob += food_chosen['Frozen Broccoli']+food_chosen['Celery, Raw']<=1"
   ]
  },
  {
   "cell_type": "markdown",
   "metadata": {},
   "source": [
    "### Vincolo per alimenti proteici\n",
    "Presenza di almeno 3 tipi di alimento proteico nella dieta"
   ]
  },
  {
   "cell_type": "code",
   "execution_count": 36,
   "metadata": {},
   "outputs": [],
   "source": [
    "protein_choices = ['Beanbacn Soup,W/Watr','Bologna,Turkey','Frankfurter, Beef','Ham,Sliced,Extralean',\n",
    "                  'Hamburger W/Toppings','Hotdog, Plain','Kielbasa,Prk','Neweng Clamchwd','Pizza W/Pepperoni',\n",
    "                  'Poached Eggs','Pork','Roasted Chicken','Sardines in Oil','Scrambled Eggs','Vegetbeef Soup',\n",
    "                   'White Tuna in Water']"
   ]
  },
  {
   "cell_type": "code",
   "execution_count": 37,
   "metadata": {},
   "outputs": [],
   "source": [
    "prob += lpSum([food_chosen[p] for p in protein_choices]) >= 3.0"
   ]
  },
  {
   "cell_type": "code",
   "execution_count": 38,
   "metadata": {},
   "outputs": [
    {
     "data": {
      "text/plain": [
       "[Chosen_2%_Lowfat_Milk,\n",
       " Chosen_3.3%_Fat,Whole_Milk,\n",
       " Chosen_Apple,Raw,W_Skin,\n",
       " Chosen_Apple_Pie,\n",
       " Chosen_Bagels,\n",
       " Chosen_Banana,\n",
       " Chosen_Beanbacn_Soup,W_Watr,\n",
       " Chosen_Bologna,Turkey,\n",
       " Chosen_Butter,Regular,\n",
       " Chosen_Cap'N_Crunch,\n",
       " Chosen_Carrots,Raw,\n",
       " Chosen_Celery,_Raw,\n",
       " Chosen_Cheddar_Cheese,\n",
       " Chosen_Cheerios,\n",
       " Chosen_Chicknoodl_Soup,\n",
       " Chosen_Chocolate_Chip_Cookies,\n",
       " Chosen_Corn_Flks,_Kellogg'S,\n",
       " Chosen_Couscous,\n",
       " Chosen_Crm_Mshrm_Soup,W_Mlk,\n",
       " Chosen_Frankfurter,_Beef,\n",
       " Chosen_Frozen_Broccoli,\n",
       " Chosen_Frozen_Corn,\n",
       " Chosen_Grapes,\n",
       " Chosen_Ham,Sliced,Extralean,\n",
       " Chosen_Hamburger_W_Toppings,\n",
       " Chosen_Hotdog,_Plain,\n",
       " Chosen_Kielbasa,Prk,\n",
       " Chosen_Kiwifruit,Raw,Fresh,\n",
       " Chosen_Lettuce,Iceberg,Raw,\n",
       " Chosen_Macaroni,Ckd,\n",
       " Chosen_Malt_O_Meal,Choc,\n",
       " Chosen_New_E_Clamchwd,W_Mlk,\n",
       " Chosen_Neweng_Clamchwd,\n",
       " Chosen_Oatmeal,\n",
       " Chosen_Oatmeal_Cookies,\n",
       " Chosen_Oranges,\n",
       " Chosen_Peanut_Butter,\n",
       " Chosen_Peppers,_Sweet,_Raw,\n",
       " Chosen_Pizza_W_Pepperoni,\n",
       " Chosen_Poached_Eggs,\n",
       " Chosen_Popcorn,Air_Popped,\n",
       " Chosen_Pork,\n",
       " Chosen_Potato_Chips,Bbqflvr,\n",
       " Chosen_Potatoes,_Baked,\n",
       " Chosen_Pretzels,\n",
       " Chosen_Raisin_Brn,_Kellg'S,\n",
       " Chosen_Rice_Krispies,\n",
       " Chosen_Roasted_Chicken,\n",
       " Chosen_Sardines_in_Oil,\n",
       " Chosen_Scrambled_Eggs,\n",
       " Chosen_Skim_Milk,\n",
       " Chosen_Spaghetti_W__Sauce,\n",
       " Chosen_Special_K,\n",
       " Chosen_Splt_Pea&Hamsoup,\n",
       " Chosen_Taco,\n",
       " Chosen_Tofu,\n",
       " Chosen_Tomato,Red,Ripe,Raw,\n",
       " Chosen_Tomato_Soup,\n",
       " Chosen_Tortilla_Chip,\n",
       " Chosen_Vegetbeef_Soup,\n",
       " Chosen_Wheat_Bread,\n",
       " Chosen_White_Bread,\n",
       " Chosen_White_Rice,\n",
       " Chosen_White_Tuna_in_Water,\n",
       " Portion_2%_Lowfat_Milk,\n",
       " Portion_3.3%_Fat,Whole_Milk,\n",
       " Portion_Apple,Raw,W_Skin,\n",
       " Portion_Apple_Pie,\n",
       " Portion_Bagels,\n",
       " Portion_Banana,\n",
       " Portion_Beanbacn_Soup,W_Watr,\n",
       " Portion_Bologna,Turkey,\n",
       " Portion_Butter,Regular,\n",
       " Portion_Cap'N_Crunch,\n",
       " Portion_Carrots,Raw,\n",
       " Portion_Celery,_Raw,\n",
       " Portion_Cheddar_Cheese,\n",
       " Portion_Cheerios,\n",
       " Portion_Chicknoodl_Soup,\n",
       " Portion_Chocolate_Chip_Cookies,\n",
       " Portion_Corn_Flks,_Kellogg'S,\n",
       " Portion_Couscous,\n",
       " Portion_Crm_Mshrm_Soup,W_Mlk,\n",
       " Portion_Frankfurter,_Beef,\n",
       " Portion_Frozen_Broccoli,\n",
       " Portion_Frozen_Corn,\n",
       " Portion_Grapes,\n",
       " Portion_Ham,Sliced,Extralean,\n",
       " Portion_Hamburger_W_Toppings,\n",
       " Portion_Hotdog,_Plain,\n",
       " Portion_Kielbasa,Prk,\n",
       " Portion_Kiwifruit,Raw,Fresh,\n",
       " Portion_Lettuce,Iceberg,Raw,\n",
       " Portion_Macaroni,Ckd,\n",
       " Portion_Malt_O_Meal,Choc,\n",
       " Portion_New_E_Clamchwd,W_Mlk,\n",
       " Portion_Neweng_Clamchwd,\n",
       " Portion_Oatmeal,\n",
       " Portion_Oatmeal_Cookies,\n",
       " Portion_Oranges,\n",
       " Portion_Peanut_Butter,\n",
       " Portion_Peppers,_Sweet,_Raw,\n",
       " Portion_Pizza_W_Pepperoni,\n",
       " Portion_Poached_Eggs,\n",
       " Portion_Popcorn,Air_Popped,\n",
       " Portion_Pork,\n",
       " Portion_Potato_Chips,Bbqflvr,\n",
       " Portion_Potatoes,_Baked,\n",
       " Portion_Pretzels,\n",
       " Portion_Raisin_Brn,_Kellg'S,\n",
       " Portion_Rice_Krispies,\n",
       " Portion_Roasted_Chicken,\n",
       " Portion_Sardines_in_Oil,\n",
       " Portion_Scrambled_Eggs,\n",
       " Portion_Skim_Milk,\n",
       " Portion_Spaghetti_W__Sauce,\n",
       " Portion_Special_K,\n",
       " Portion_Splt_Pea&Hamsoup,\n",
       " Portion_Taco,\n",
       " Portion_Tofu,\n",
       " Portion_Tomato,Red,Ripe,Raw,\n",
       " Portion_Tomato_Soup,\n",
       " Portion_Tortilla_Chip,\n",
       " Portion_Vegetbeef_Soup,\n",
       " Portion_Wheat_Bread,\n",
       " Portion_White_Bread,\n",
       " Portion_White_Rice,\n",
       " Portion_White_Tuna_in_Water]"
      ]
     },
     "execution_count": 38,
     "metadata": {},
     "output_type": "execute_result"
    }
   ],
   "source": [
    "# Scrittura del problema costruito in un file '.lp'\n",
    "prob.writeLP(\"DietProblem.lp\")"
   ]
  },
  {
   "cell_type": "markdown",
   "metadata": {},
   "source": [
    "## Risoluzione del PL"
   ]
  },
  {
   "cell_type": "code",
   "execution_count": 39,
   "metadata": {},
   "outputs": [
    {
     "data": {
      "text/plain": [
       "1"
      ]
     },
     "execution_count": 39,
     "metadata": {},
     "output_type": "execute_result"
    }
   ],
   "source": [
    "# Non specificando il solver da utilizzare si lascia che la libreria PuLP decida il migliore sulla base\n",
    "# della struttura del problema\n",
    "prob.solve()"
   ]
  },
  {
   "cell_type": "markdown",
   "metadata": {},
   "source": [
    "## Stampa dello stato della soluzione PL\n",
    "Sebbene in questo caso lo stato sia ottimale, non è sempre detto che lo sia. \n",
    "Nel caso in cui il problema sia mal formulato o non ci siano informazioni sufficienti, la soluzione potrebbe essere infeasible o unbounded."
   ]
  },
  {
   "cell_type": "code",
   "execution_count": 40,
   "metadata": {},
   "outputs": [
    {
     "name": "stdout",
     "output_type": "stream",
     "text": [
      "Status: Optimal\n"
     ]
    }
   ],
   "source": [
    "print(\"Status:\", LpStatus[prob.status])"
   ]
  },
  {
   "cell_type": "markdown",
   "metadata": {},
   "source": [
    "La **soluzione completa** contiene tutte le variabili comprese quelle con peso zero.\n",
    "Di interesse sono solo quelle variabili che hanno coefficienti diversi da zero, cioè che dovrebbero essere incluse nel piano alimentare ottimale. Quindi, si procede a stampare solo se la quantità della variabile è positiva."
   ]
  },
  {
   "cell_type": "code",
   "execution_count": 41,
   "metadata": {},
   "outputs": [
    {
     "name": "stdout",
     "output_type": "stream",
     "text": [
      "La dieta bilanciata ottimale (costo minimo) che considera i vincoli consiste in:\n",
      "--------------------------------------------------------------------------------------------------------------\n",
      "Portion_Bologna,Turkey = 1\n",
      "Portion_Celery,_Raw = 32\n",
      "Portion_Kielbasa,Prk = 1\n",
      "Portion_Kiwifruit,Raw,Fresh = 8\n",
      "Portion_Lettuce,Iceberg,Raw = 96\n",
      "Portion_Popcorn,Air_Popped = 12\n",
      "Portion_Sardines_in_Oil = 1\n",
      "Portion_Tofu = 1\n"
     ]
    }
   ],
   "source": [
    "print(\"La dieta bilanciata ottimale (costo minimo) che considera i vincoli consiste in:\\n\"+\"-\"*110)\n",
    "for v in prob.variables():\n",
    "    if v.varValue>0 and v.name[0]=='P':\n",
    "        print(v.name, \"=\", v.varValue)"
   ]
  },
  {
   "cell_type": "markdown",
   "metadata": {},
   "source": [
    "## Costo ottimale della dieta"
   ]
  },
  {
   "cell_type": "code",
   "execution_count": 42,
   "metadata": {},
   "outputs": [
    {
     "name": "stdout",
     "output_type": "stream",
     "text": [
      "Il costo totale della dieta bilanciata è: $8.66\n"
     ]
    }
   ],
   "source": [
    "print(\"Il costo totale della dieta bilanciata è: ${}\".format(round(value(prob.objective),2)))"
   ]
  }
 ],
 "metadata": {
  "kernelspec": {
   "display_name": "Python 3",
   "language": "python",
   "name": "python3"
  },
  "language_info": {
   "codemirror_mode": {
    "name": "ipython",
    "version": 3
   },
   "file_extension": ".py",
   "mimetype": "text/x-python",
   "name": "python",
   "nbconvert_exporter": "python",
   "pygments_lexer": "ipython3",
   "version": "3.7.11"
  },
  "latex_envs": {
   "LaTeX_envs_menu_present": true,
   "autoclose": false,
   "autocomplete": true,
   "bibliofile": "biblio.bib",
   "cite_by": "apalike",
   "current_citInitial": 1,
   "eqLabelWithNumbers": true,
   "eqNumInitial": 1,
   "hotkeys": {
    "equation": "Ctrl-E",
    "itemize": "Ctrl-I"
   },
   "labels_anchors": false,
   "latex_user_defs": false,
   "report_style_numbering": false,
   "user_envs_cfg": false
  }
 },
 "nbformat": 4,
 "nbformat_minor": 2
}
